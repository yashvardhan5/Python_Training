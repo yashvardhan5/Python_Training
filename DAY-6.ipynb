{
 "cells": [
  {
   "cell_type": "code",
   "execution_count": 1,
   "id": "82aef092-ddef-4742-a58c-763b4abbcf75",
   "metadata": {},
   "outputs": [
    {
     "data": {
      "text/plain": [
       "[3, 5]"
      ]
     },
     "execution_count": 1,
     "metadata": {},
     "output_type": "execute_result"
    }
   ],
   "source": [
    "list1= [\"hey\",\"hello\"]\n",
    "list(map(len , list1))  #map is a generator\n"
   ]
  },
  {
   "cell_type": "code",
   "execution_count": 2,
   "id": "36ccbedd-53ea-443f-ab6a-320c7a63c2a7",
   "metadata": {},
   "outputs": [
    {
     "data": {
      "text/plain": [
       "[('hey', 1), ('hello', 1)]"
      ]
     },
     "execution_count": 2,
     "metadata": {},
     "output_type": "execute_result"
    }
   ],
   "source": [
    "list1= [\"hey\",\"hello\"]\n",
    "list(map(lambda x : (x,1), list1))  #this output of tuple in list is called dictionary"
   ]
  },
  {
   "cell_type": "code",
   "execution_count": 6,
   "id": "134ab1bc-a518-4e71-a33c-20fd353b65ce",
   "metadata": {},
   "outputs": [
    {
     "name": "stdout",
     "output_type": "stream",
     "text": [
      "cake 100\n"
     ]
    }
   ],
   "source": [
    "def func(num):\n",
    "    print(\"cake\",num)\n",
    "#call function\n",
    "func(100)"
   ]
  },
  {
   "cell_type": "code",
   "execution_count": 7,
   "id": "e09bf7bf-e475-4105-9be1-019e6cc56325",
   "metadata": {},
   "outputs": [
    {
     "name": "stdout",
     "output_type": "stream",
     "text": [
      "cake 100\n",
      "gift\n"
     ]
    }
   ],
   "source": [
    "def func(num):\n",
    "    print(\"cake\",num)\n",
    "    return \"gift\"\n",
    "#call function\n",
    "out= func(100)\n",
    "print(out)"
   ]
  },
  {
   "cell_type": "code",
   "execution_count": 8,
   "id": "15587a88-5929-400c-a30f-ee5ab2fd9c0b",
   "metadata": {},
   "outputs": [
    {
     "name": "stdout",
     "output_type": "stream",
     "text": [
      "cake 100\n",
      "gift\n"
     ]
    }
   ],
   "source": [
    "def func(num):\n",
    "    print(\"cake\",num)\n",
    "    return \"gift\"\n",
    "    return 500 #once a return is written then other return will not work as the sysytem will be out so first return will be executed\n",
    "#call function\n",
    "out= func(100)\n",
    "print(out)"
   ]
  },
  {
   "cell_type": "code",
   "execution_count": null,
   "id": "1146ea4e-18c7-459f-9a29-76fa02a59867",
   "metadata": {},
   "outputs": [],
   "source": [
    "#FILE HANDLING ---> while loop\n",
    "#mechanism => file task\n",
    "#read/write operation are performed\n",
    "#steps=> open, read/write , end\n",
    "\n"
   ]
  },
  {
   "cell_type": "code",
   "execution_count": 10,
   "id": "d45247b5-70c0-4287-bdd3-d607268f79b5",
   "metadata": {},
   "outputs": [],
   "source": [
    "#to open a file write open\n",
    "#save the file in a variable for future use\n",
    "#this variable at which file is saved is used to perform operation\n",
    "\n",
    "fileobj= open(\"regex.txt\")\n",
    "fileobj.read()\n",
    "fileobj.close()"
   ]
  },
  {
   "cell_type": "code",
   "execution_count": 11,
   "id": "5431571a-d2e1-4676-8771-054e421186b0",
   "metadata": {},
   "outputs": [
    {
     "name": "stdout",
     "output_type": "stream",
     "text": [
      "hey hello user\n"
     ]
    }
   ],
   "source": [
    "#file object\n",
    "fileobj= open(\"regex.txt\")\n",
    "result= fileobj.read()\n",
    "fileobj.close()\n",
    "print(result)"
   ]
  },
  {
   "cell_type": "code",
   "execution_count": null,
   "id": "4c3bb9f3-a335-4c8f-a9c7-c7aad9977729",
   "metadata": {},
   "outputs": [],
   "source": [
    "#here this \"r\" is ued to tell that we want to read the file\n",
    "#it is also called access mode\n",
    "fileobj= open(\"regex.txt\",\"r\")\n",
    "result= fileobj.read()\n",
    "fileobj.close()\n",
    "print(result)"
   ]
  },
  {
   "cell_type": "code",
   "execution_count": 14,
   "id": "3507d402-5923-447a-bcbc-9e9efbc35496",
   "metadata": {},
   "outputs": [],
   "source": [
    "#to write w is used\n",
    "fileobj= open(\"regex.txt\", \"w\")\n",
    "result= fileobj.write(\"hello yash\")\n",
    "fileobj.close()"
   ]
  },
  {
   "cell_type": "code",
   "execution_count": 15,
   "id": "99e31b44-e86d-42ba-aee7-4bba65cdc91f",
   "metadata": {},
   "outputs": [],
   "source": [
    "fileobj= open(\"regex.txt\", \"w\")\n",
    "result= fileobj.write(\"##\")\n",
    "fileobj.close()"
   ]
  },
  {
   "cell_type": "code",
   "execution_count": 17,
   "id": "55fed03d-cd1f-4dce-8379-5b31011ffea3",
   "metadata": {},
   "outputs": [
    {
     "name": "stdout",
     "output_type": "stream",
     "text": [
      "##hello yash\n"
     ]
    }
   ],
   "source": [
    "#r+ is used to read and write both\n",
    "fileobj= open(\"regex.txt\", \"r+\")\n",
    "result= fileobj.read()\n",
    "fileobj.write(\"hello yash\")\n",
    "fileobj.close()\n",
    "print(result)"
   ]
  },
  {
   "cell_type": "code",
   "execution_count": 22,
   "id": "8d42782f-a6d3-4f18-bce6-81f374347d24",
   "metadata": {},
   "outputs": [
    {
     "name": "stdout",
     "output_type": "stream",
     "text": [
      "lo yashshhello yash\n"
     ]
    }
   ],
   "source": [
    "fileobj= open(\"regex.txt\", \"r+\")\n",
    "fileobj.write(\"$$$\")\n",
    "result= fileobj.read()\n",
    "fileobj.close()\n",
    "print(result)"
   ]
  },
  {
   "cell_type": "code",
   "execution_count": 23,
   "id": "caf6e8c5-fbec-4184-aca7-aad93277ebc5",
   "metadata": {},
   "outputs": [],
   "source": [
    "fileobj= open(\"regex.txt\", \"w\")\n",
    "result= fileobj.write(\"hello yash\")\n",
    "fileobj.close()"
   ]
  },
  {
   "cell_type": "code",
   "execution_count": 24,
   "id": "20ea31fa-dc46-407b-8168-b0000ae2ff57",
   "metadata": {},
   "outputs": [
    {
     "name": "stdout",
     "output_type": "stream",
     "text": [
      "lo yash\n"
     ]
    }
   ],
   "source": [
    "fileobj= open(\"regex.txt\", \"r+\")\n",
    "fileobj.write(\"$$$\")\n",
    "result= fileobj.read()\n",
    "fileobj.close()\n",
    "print(result)"
   ]
  },
  {
   "cell_type": "code",
   "execution_count": 25,
   "id": "ecf56537-a7d0-45cf-aa0c-9b47103bc44b",
   "metadata": {},
   "outputs": [
    {
     "name": "stdout",
     "output_type": "stream",
     "text": [
      "\n"
     ]
    }
   ],
   "source": [
    "#if w+ is uesd then the old content will be removed not like r+\n",
    "fileobj= open(\"regex.txt\", \"w+\")\n",
    "fileobj.write(\"$$$\")\n",
    "result= fileobj.read()\n",
    "fileobj.close()\n",
    "print(result)"
   ]
  },
  {
   "cell_type": "code",
   "execution_count": 27,
   "id": "b1dcdda5-56db-40dd-9725-e1365594e5d5",
   "metadata": {},
   "outputs": [
    {
     "name": "stdout",
     "output_type": "stream",
     "text": [
      "cursor1:  0\n",
      "cursor2:  5\n",
      "\n"
     ]
    }
   ],
   "source": [
    "#to know the position of cursor we use tell() function\n",
    "fileobj= open(\"regex.txt\", \"r+\")\n",
    "\n",
    "print(\"cursor1: \",fileobj.tell()) #syntax to find the position\n",
    "fileobj.write(\"hello\")\n",
    "\n",
    "print(\"cursor2: \", fileobj.tell())\n",
    "result= fileobj.read()\n",
    "fileobj.close()\n",
    "print(result)"
   ]
  },
  {
   "cell_type": "code",
   "execution_count": 28,
   "id": "f7b4f41b-4507-4fa1-a935-828c8a71ba2b",
   "metadata": {},
   "outputs": [
    {
     "name": "stdout",
     "output_type": "stream",
     "text": [
      "cursor1:  0\n",
      "cursor2:  3\n",
      "cursor3:  12\n",
      "lo jaipur\n"
     ]
    }
   ],
   "source": [
    "fileobj= open(\"regex.txt\", \"r+\")\n",
    "\n",
    "print(\"cursor1: \",fileobj.tell()) #syntax to find the position\n",
    "fileobj.write(\"###\")\n",
    "\n",
    "print(\"cursor2: \", fileobj.tell())\n",
    "result= fileobj.read()\n",
    "print(\"cursor3: \", fileobj.tell())\n",
    "fileobj.close()\n",
    "print(result)"
   ]
  },
  {
   "cell_type": "code",
   "execution_count": 29,
   "id": "ab150197-0431-45ad-86d9-742bc73c2e26",
   "metadata": {},
   "outputs": [
    {
     "name": "stdout",
     "output_type": "stream",
     "text": [
      "cursor1:  0\n",
      "cursor2:  1\n",
      "cursor3:  12\n",
      "##lo jaipur\n"
     ]
    }
   ],
   "source": [
    "#seek()  is used to change the positiom of cursor\n",
    "fileobj= open(\"regex.txt\", \"r+\")\n",
    "\n",
    "print(\"cursor1: \",fileobj.tell()) #syntax to find the position\n",
    "fileobj.write(\"###\")\n",
    "fileobj.seek(1)#synatx to change position\n",
    "\n",
    "print(\"cursor2: \", fileobj.tell())\n",
    "result= fileobj.read()\n",
    "print(\"cursor3: \", fileobj.tell())\n",
    "fileobj.close()\n",
    "print(result)"
   ]
  },
  {
   "cell_type": "code",
   "execution_count": 32,
   "id": "2358537d-7f29-4d21-b597-0d4dd6cdc5b2",
   "metadata": {},
   "outputs": [
    {
     "name": "stdout",
     "output_type": "stream",
     "text": [
      "###lo jaipur\n"
     ]
    }
   ],
   "source": [
    "#another way to use a file is use of \"with\"\n",
    "with open(\"regex.txt\",\"r\") as fileobj:\n",
    "    x=fileobj.read()\n",
    "print(x)"
   ]
  },
  {
   "cell_type": "code",
   "execution_count": 33,
   "id": "10e3fc46-ff3e-4f53-bfad-d591484b61a1",
   "metadata": {},
   "outputs": [
    {
     "name": "stdout",
     "output_type": "stream",
     "text": [
      "###\n"
     ]
    }
   ],
   "source": [
    "with open(\"regex.txt\",\"r\") as fileobj:\n",
    "    x=fileobj.read(3)#here 3 tells to read only 3byte/character\n",
    "print(x)"
   ]
  },
  {
   "cell_type": "code",
   "execution_count": 36,
   "id": "34a1da50-e65f-4316-b8dd-3856462ccb64",
   "metadata": {},
   "outputs": [
    {
     "name": "stdout",
     "output_type": "stream",
     "text": [
      "hello jaipur\n",
      "\n",
      "hello yash\n",
      "\n",
      "hello tushar\n"
     ]
    }
   ],
   "source": [
    "#readline is used to read one line\n",
    "with open(\"regex.txt\",\"r\") as fileobj:\n",
    "    print(fileobj.readline())\n",
    "    print(fileobj.readline())\n",
    "    print(fileobj.readline())"
   ]
  },
  {
   "cell_type": "code",
   "execution_count": 37,
   "id": "82c24131-99a9-49dd-9f71-cd8b684853c9",
   "metadata": {},
   "outputs": [
    {
     "name": "stdout",
     "output_type": "stream",
     "text": [
      "['hello jaipur\\n', 'hello yash\\n', 'hello tushar']\n"
     ]
    }
   ],
   "source": [
    "#readlines are used to read all the lines\n",
    "with open(\"regex.txt\",\"r\") as fileobj:\n",
    "    print(fileobj.readlines())"
   ]
  },
  {
   "cell_type": "code",
   "execution_count": null,
   "id": "5172bf17-f3c5-4c4c-9d7d-3194fbb382d9",
   "metadata": {},
   "outputs": [],
   "source": [
    "#exception handling\n",
    "#list comphresion,dict comphresion\n"
   ]
  },
  {
   "cell_type": "code",
   "execution_count": null,
   "id": "d5d5503b-b7f8-409a-a8db-cff27d16c9b1",
   "metadata": {},
   "outputs": [],
   "source": []
  }
 ],
 "metadata": {
  "kernelspec": {
   "display_name": "Python 3 (ipykernel)",
   "language": "python",
   "name": "python3"
  },
  "language_info": {
   "codemirror_mode": {
    "name": "ipython",
    "version": 3
   },
   "file_extension": ".py",
   "mimetype": "text/x-python",
   "name": "python",
   "nbconvert_exporter": "python",
   "pygments_lexer": "ipython3",
   "version": "3.12.4"
  }
 },
 "nbformat": 4,
 "nbformat_minor": 5
}
