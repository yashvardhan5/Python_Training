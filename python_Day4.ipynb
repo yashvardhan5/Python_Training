{
  "nbformat": 4,
  "nbformat_minor": 0,
  "metadata": {
    "colab": {
      "provenance": [],
      "authorship_tag": "ABX9TyPc2uJ8MsypMkxhjoktPX8/",
      "include_colab_link": true
    },
    "kernelspec": {
      "name": "python3",
      "display_name": "Python 3"
    },
    "language_info": {
      "name": "python"
    }
  },
  "cells": [
    {
      "cell_type": "markdown",
      "metadata": {
        "id": "view-in-github",
        "colab_type": "text"
      },
      "source": [
        "<a href=\"https://colab.research.google.com/github/yashvardhan5/python-day1-2/blob/DAY-4/python_Day4.ipynb\" target=\"_parent\"><img src=\"https://colab.research.google.com/assets/colab-badge.svg\" alt=\"Open In Colab\"/></a>"
      ]
    },
    {
      "cell_type": "code",
      "execution_count": 1,
      "metadata": {
        "colab": {
          "base_uri": "https://localhost:8080/"
        },
        "id": "GzTjE1c3LYCf",
        "outputId": "f4d084e4-712f-492b-fd35-0d087397cdfb"
      },
      "outputs": [
        {
          "output_type": "stream",
          "name": "stdout",
          "text": [
            "$ $ *  \n",
            "$ * *  \n",
            "* * *  \n"
          ]
        }
      ],
      "source": [
        "for i in range(1,4):\n",
        "  for j in range(i,3):\n",
        "    print(\"$\",end= \" \")\n",
        "\n",
        "  for k in range(1,i+1):\n",
        "    print(\"*\",end=\" \")\n",
        "  print(\" \")"
      ]
    },
    {
      "cell_type": "code",
      "source": [
        "for i in range(1,5):\n",
        "  for j in range(1,i):\n",
        "    print(\"$\",end= \" \")\n",
        "  print(\" \")\n"
      ],
      "metadata": {
        "colab": {
          "base_uri": "https://localhost:8080/"
        },
        "id": "BsbhT-R6NBm3",
        "outputId": "03311c2c-c434-49ae-bf78-18a0f3efbc4a"
      },
      "execution_count": 2,
      "outputs": [
        {
          "output_type": "stream",
          "name": "stdout",
          "text": [
            " \n",
            "$  \n",
            "$ $  \n",
            "$ $ $  \n"
          ]
        }
      ]
    },
    {
      "cell_type": "code",
      "source": [
        "for i in range(1,5):\n",
        "  for j in range(1,i):\n",
        "    print(\"$\",end= \" \")\n",
        "\n",
        "  for k in range(i,5):\n",
        "    print(\"*\",end=\" \")\n",
        "  print(\" \")"
      ],
      "metadata": {
        "colab": {
          "base_uri": "https://localhost:8080/"
        },
        "id": "JGnmNvpFNlJb",
        "outputId": "87b8cffa-b8e6-4f2b-b11b-7254caf5e7fd"
      },
      "execution_count": 3,
      "outputs": [
        {
          "output_type": "stream",
          "name": "stdout",
          "text": [
            "* * * *  \n",
            "$ * * *  \n",
            "$ $ * *  \n",
            "$ $ $ *  \n"
          ]
        }
      ]
    },
    {
      "cell_type": "code",
      "source": [
        "#pyramid pattern\n",
        "for i in range(1,7):\n",
        "  for j in range(i,7):\n",
        "    print(\" \",end= \" \")\n",
        "\n",
        "  for k in range(1,2*i):\n",
        "    print(\"*\",end=\" \")\n",
        "  print(\" \")"
      ],
      "metadata": {
        "colab": {
          "base_uri": "https://localhost:8080/"
        },
        "id": "atR7-L4JOSnn",
        "outputId": "5824ef0e-ec93-4698-a873-cc6111faa036"
      },
      "execution_count": 5,
      "outputs": [
        {
          "output_type": "stream",
          "name": "stdout",
          "text": [
            "            *  \n",
            "          * * *  \n",
            "        * * * * *  \n",
            "      * * * * * * *  \n",
            "    * * * * * * * * *  \n",
            "  * * * * * * * * * * *  \n"
          ]
        }
      ]
    },
    {
      "cell_type": "code",
      "source": [
        "#list: data structue ehich stores datatypes\n",
        "#collection of multiple element of multiple datatypes\n",
        "#sequence=>they ,maintain order\n",
        "#they are mutuable data type, index position\n",
        "x=[]\n",
        "print(type(x))"
      ],
      "metadata": {
        "colab": {
          "base_uri": "https://localhost:8080/"
        },
        "id": "gv0qONuLP23Y",
        "outputId": "8cdd605b-e27d-437f-f76d-2a84eef6a15d"
      },
      "execution_count": 7,
      "outputs": [
        {
          "output_type": "stream",
          "name": "stdout",
          "text": [
            "<class 'list'>\n"
          ]
        }
      ]
    },
    {
      "cell_type": "code",
      "source": [
        "mylist=[10,20,30.0,\"hey\",10.0]\n",
        "print(type(mylist))"
      ],
      "metadata": {
        "colab": {
          "base_uri": "https://localhost:8080/"
        },
        "id": "QsiN9ZOuQJ85",
        "outputId": "8a46df64-59ed-49c8-f32b-9797f38894f3"
      },
      "execution_count": 8,
      "outputs": [
        {
          "output_type": "stream",
          "name": "stdout",
          "text": [
            "<class 'list'>\n"
          ]
        }
      ]
    },
    {
      "cell_type": "code",
      "source": [
        "mylist=[10,20,30.0,\"hey\",10.0]\n",
        "print(mylist[-2])"
      ],
      "metadata": {
        "colab": {
          "base_uri": "https://localhost:8080/"
        },
        "id": "VyuzLL0HQxTg",
        "outputId": "726cf761-1da9-4b9b-bc1c-1679c2244963"
      },
      "execution_count": 9,
      "outputs": [
        {
          "output_type": "stream",
          "name": "stdout",
          "text": [
            "hey\n"
          ]
        }
      ]
    },
    {
      "cell_type": "code",
      "source": [
        "#updation of list\n",
        "mylist=[10,20,30.0,\"hey\",10.0]\n",
        "mylist[0]=99\n",
        "print(mylist)"
      ],
      "metadata": {
        "colab": {
          "base_uri": "https://localhost:8080/"
        },
        "id": "iveC3kEVRJKm",
        "outputId": "12de5ffe-a2d6-47fa-dcce-aecc7cfa9d7d"
      },
      "execution_count": 11,
      "outputs": [
        {
          "output_type": "stream",
          "name": "stdout",
          "text": [
            "[99, 20, 30.0, 'hey', 10.0]\n"
          ]
        }
      ]
    },
    {
      "cell_type": "code",
      "source": [
        "#insertion\n",
        "mylist=[10,20,30.0,\"hey\",10.0]\n",
        "mylist.append(88)\n",
        "print(mylist)"
      ],
      "metadata": {
        "colab": {
          "base_uri": "https://localhost:8080/"
        },
        "id": "2gsJwP4MRSVq",
        "outputId": "2d123da5-ee4f-42e2-ab81-7129ef448fd6"
      },
      "execution_count": 12,
      "outputs": [
        {
          "output_type": "stream",
          "name": "stdout",
          "text": [
            "[10, 20, 30.0, 'hey', 10.0, 88]\n"
          ]
        }
      ]
    },
    {
      "cell_type": "code",
      "source": [
        "#insertion of list\n",
        "mylist=[10,20,30.0,\"hey\",10.0]\n",
        "mylist.extend([5,6,7,8])\n",
        "print(mylist)"
      ],
      "metadata": {
        "colab": {
          "base_uri": "https://localhost:8080/"
        },
        "id": "dk9b_hdiRkdp",
        "outputId": "aa9cbe24-0414-457a-a121-44983130daf7"
      },
      "execution_count": 13,
      "outputs": [
        {
          "output_type": "stream",
          "name": "stdout",
          "text": [
            "[10, 20, 30.0, 'hey', 10.0, 5, 6, 7, 8]\n"
          ]
        }
      ]
    },
    {
      "cell_type": "code",
      "source": [
        "#delete=>pop is used to delte\n",
        "mylist=[10,20,30.0,\"hey\",10.0]\n",
        "mylist.pop(0)\n",
        "print(mylist)"
      ],
      "metadata": {
        "colab": {
          "base_uri": "https://localhost:8080/"
        },
        "id": "Ec4VhUwFR6yP",
        "outputId": "e2cc286c-e208-42ba-8baf-eb548e96b97c"
      },
      "execution_count": 14,
      "outputs": [
        {
          "output_type": "stream",
          "name": "stdout",
          "text": [
            "[20, 30.0, 'hey', 10.0]\n"
          ]
        }
      ]
    },
    {
      "cell_type": "code",
      "source": [
        "mylist=[10,20,30.0,\"hey\",10.0]\n",
        "out= mylist.pop(-2)\n",
        "print(\"out:\",out)\n",
        "print(mylist)"
      ],
      "metadata": {
        "colab": {
          "base_uri": "https://localhost:8080/"
        },
        "id": "dnNtyQe3SSLB",
        "outputId": "1ba23373-a60a-4710-bfb4-373d878c4eae"
      },
      "execution_count": 15,
      "outputs": [
        {
          "output_type": "stream",
          "name": "stdout",
          "text": [
            "out: hey\n",
            "[10, 20, 30.0, 10.0]\n"
          ]
        }
      ]
    },
    {
      "cell_type": "code",
      "source": [
        "#help is used to give the documentation\n",
        "help(mylist)"
      ],
      "metadata": {
        "colab": {
          "base_uri": "https://localhost:8080/"
        },
        "id": "vFQ_MY6ZSf2T",
        "outputId": "7e5a7f52-54cb-4604-a2c7-4f2272956343"
      },
      "execution_count": 16,
      "outputs": [
        {
          "output_type": "stream",
          "name": "stdout",
          "text": [
            "Help on list object:\n",
            "\n",
            "class list(object)\n",
            " |  list(iterable=(), /)\n",
            " |  \n",
            " |  Built-in mutable sequence.\n",
            " |  \n",
            " |  If no argument is given, the constructor creates a new empty list.\n",
            " |  The argument must be an iterable if specified.\n",
            " |  \n",
            " |  Methods defined here:\n",
            " |  \n",
            " |  __add__(self, value, /)\n",
            " |      Return self+value.\n",
            " |  \n",
            " |  __contains__(self, key, /)\n",
            " |      Return key in self.\n",
            " |  \n",
            " |  __delitem__(self, key, /)\n",
            " |      Delete self[key].\n",
            " |  \n",
            " |  __eq__(self, value, /)\n",
            " |      Return self==value.\n",
            " |  \n",
            " |  __ge__(self, value, /)\n",
            " |      Return self>=value.\n",
            " |  \n",
            " |  __getattribute__(self, name, /)\n",
            " |      Return getattr(self, name).\n",
            " |  \n",
            " |  __getitem__(...)\n",
            " |      x.__getitem__(y) <==> x[y]\n",
            " |  \n",
            " |  __gt__(self, value, /)\n",
            " |      Return self>value.\n",
            " |  \n",
            " |  __iadd__(self, value, /)\n",
            " |      Implement self+=value.\n",
            " |  \n",
            " |  __imul__(self, value, /)\n",
            " |      Implement self*=value.\n",
            " |  \n",
            " |  __init__(self, /, *args, **kwargs)\n",
            " |      Initialize self.  See help(type(self)) for accurate signature.\n",
            " |  \n",
            " |  __iter__(self, /)\n",
            " |      Implement iter(self).\n",
            " |  \n",
            " |  __le__(self, value, /)\n",
            " |      Return self<=value.\n",
            " |  \n",
            " |  __len__(self, /)\n",
            " |      Return len(self).\n",
            " |  \n",
            " |  __lt__(self, value, /)\n",
            " |      Return self<value.\n",
            " |  \n",
            " |  __mul__(self, value, /)\n",
            " |      Return self*value.\n",
            " |  \n",
            " |  __ne__(self, value, /)\n",
            " |      Return self!=value.\n",
            " |  \n",
            " |  __repr__(self, /)\n",
            " |      Return repr(self).\n",
            " |  \n",
            " |  __reversed__(self, /)\n",
            " |      Return a reverse iterator over the list.\n",
            " |  \n",
            " |  __rmul__(self, value, /)\n",
            " |      Return value*self.\n",
            " |  \n",
            " |  __setitem__(self, key, value, /)\n",
            " |      Set self[key] to value.\n",
            " |  \n",
            " |  __sizeof__(self, /)\n",
            " |      Return the size of the list in memory, in bytes.\n",
            " |  \n",
            " |  append(self, object, /)\n",
            " |      Append object to the end of the list.\n",
            " |  \n",
            " |  clear(self, /)\n",
            " |      Remove all items from list.\n",
            " |  \n",
            " |  copy(self, /)\n",
            " |      Return a shallow copy of the list.\n",
            " |  \n",
            " |  count(self, value, /)\n",
            " |      Return number of occurrences of value.\n",
            " |  \n",
            " |  extend(self, iterable, /)\n",
            " |      Extend list by appending elements from the iterable.\n",
            " |  \n",
            " |  index(self, value, start=0, stop=9223372036854775807, /)\n",
            " |      Return first index of value.\n",
            " |      \n",
            " |      Raises ValueError if the value is not present.\n",
            " |  \n",
            " |  insert(self, index, object, /)\n",
            " |      Insert object before index.\n",
            " |  \n",
            " |  pop(self, index=-1, /)\n",
            " |      Remove and return item at index (default last).\n",
            " |      \n",
            " |      Raises IndexError if list is empty or index is out of range.\n",
            " |  \n",
            " |  remove(self, value, /)\n",
            " |      Remove first occurrence of value.\n",
            " |      \n",
            " |      Raises ValueError if the value is not present.\n",
            " |  \n",
            " |  reverse(self, /)\n",
            " |      Reverse *IN PLACE*.\n",
            " |  \n",
            " |  sort(self, /, *, key=None, reverse=False)\n",
            " |      Sort the list in ascending order and return None.\n",
            " |      \n",
            " |      The sort is in-place (i.e. the list itself is modified) and stable (i.e. the\n",
            " |      order of two equal elements is maintained).\n",
            " |      \n",
            " |      If a key function is given, apply it once to each list item and sort them,\n",
            " |      ascending or descending, according to their function values.\n",
            " |      \n",
            " |      The reverse flag can be set to sort in descending order.\n",
            " |  \n",
            " |  ----------------------------------------------------------------------\n",
            " |  Class methods defined here:\n",
            " |  \n",
            " |  __class_getitem__(...) from builtins.type\n",
            " |      See PEP 585\n",
            " |  \n",
            " |  ----------------------------------------------------------------------\n",
            " |  Static methods defined here:\n",
            " |  \n",
            " |  __new__(*args, **kwargs) from builtins.type\n",
            " |      Create and return a new object.  See help(type) for accurate signature.\n",
            " |  \n",
            " |  ----------------------------------------------------------------------\n",
            " |  Data and other attributes defined here:\n",
            " |  \n",
            " |  __hash__ = None\n",
            "\n"
          ]
        }
      ]
    },
    {
      "cell_type": "code",
      "source": [
        "for i in [10,20,30,\"hey\"]:\n",
        "  print(i)"
      ],
      "metadata": {
        "colab": {
          "base_uri": "https://localhost:8080/"
        },
        "id": "gAsNqL6XSpsd",
        "outputId": "aefe5c23-ceac-47d8-c8a5-b255d6a185f9"
      },
      "execution_count": 19,
      "outputs": [
        {
          "output_type": "stream",
          "name": "stdout",
          "text": [
            "10\n",
            "20\n",
            "30\n",
            "hey\n"
          ]
        }
      ]
    },
    {
      "cell_type": "code",
      "source": [
        "#take a list and if the value is integer and divided by 2 add it to new list else leave\n",
        "mylist = [1,2,3,4,\"hey\",5,\"hi\",6,7]\n",
        "newlist =[]\n",
        "for i in [mylist]:\n",
        "  if(type(mylist)==int):\n",
        "   newlist.append(i)\n",
        "  print(newlist)"
      ],
      "metadata": {
        "colab": {
          "base_uri": "https://localhost:8080/"
        },
        "id": "PxNuAvTZSy0T",
        "outputId": "8be41b66-fc42-4703-fd4b-12f81dafe51a"
      },
      "execution_count": 32,
      "outputs": [
        {
          "output_type": "stream",
          "name": "stdout",
          "text": [
            "[]\n"
          ]
        }
      ]
    },
    {
      "cell_type": "code",
      "source": [
        "#tuple immutalbe\n",
        "mytuple=10,20,\"hey\"\n",
        "print(type(mytuple))\n"
      ],
      "metadata": {
        "colab": {
          "base_uri": "https://localhost:8080/"
        },
        "id": "Z65jc-H9UYyx",
        "outputId": "4f8528c2-92e7-487c-8219-177bdf71bdcf"
      },
      "execution_count": 30,
      "outputs": [
        {
          "output_type": "stream",
          "name": "stdout",
          "text": [
            "<class 'tuple'>\n"
          ]
        }
      ]
    },
    {
      "cell_type": "code",
      "source": [
        "mytuple=(10,20,\"hey\")\n",
        "print(type(mytuple))"
      ],
      "metadata": {
        "colab": {
          "base_uri": "https://localhost:8080/"
        },
        "id": "zbIuC-CaVb3L",
        "outputId": "2a738656-a04e-4a0f-8a89-0be11b8b876b"
      },
      "execution_count": 31,
      "outputs": [
        {
          "output_type": "stream",
          "name": "stdout",
          "text": [
            "<class 'tuple'>\n"
          ]
        }
      ]
    },
    {
      "cell_type": "code",
      "source": [
        "mytuple[-1]"
      ],
      "metadata": {
        "colab": {
          "base_uri": "https://localhost:8080/",
          "height": 35
        },
        "id": "AQHhn5GCVrct",
        "outputId": "3c4f31ce-1527-4990-bd7d-a6693406798f"
      },
      "execution_count": 33,
      "outputs": [
        {
          "output_type": "execute_result",
          "data": {
            "text/plain": [
              "'hey'"
            ],
            "application/vnd.google.colaboratory.intrinsic+json": {
              "type": "string"
            }
          },
          "metadata": {},
          "execution_count": 33
        }
      ]
    },
    {
      "cell_type": "code",
      "source": [
        "#dictionary is a combination of key:value\n",
        "#key is identifier and value is data\n",
        "#dictioary is mutuable and ordered\n",
        "mydictionary={1:\"yash\",2:\"aman\",3:\"aditiya\"}\n",
        "mydictionary"
      ],
      "metadata": {
        "colab": {
          "base_uri": "https://localhost:8080/"
        },
        "id": "eapC4w3XWBXj",
        "outputId": "ee57dd0d-f5b8-4e28-af05-ed47e6062c74"
      },
      "execution_count": 39,
      "outputs": [
        {
          "output_type": "execute_result",
          "data": {
            "text/plain": [
              "{1: 'yash', 2: 'aman', 3: 'aditiya'}"
            ]
          },
          "metadata": {},
          "execution_count": 39
        }
      ]
    },
    {
      "cell_type": "code",
      "source": [
        "#no index position but can be accessed by a key\n",
        "#key should be immutable but values can be both mutuable and immutable\n",
        "#if key is not present the value will be added\n",
        "\n",
        "mydictionary[1]"
      ],
      "metadata": {
        "colab": {
          "base_uri": "https://localhost:8080/",
          "height": 35
        },
        "id": "8qJE0bKSY-IF",
        "outputId": "8b202ce8-1ae0-45c9-8dae-436d2b18f1b2"
      },
      "execution_count": 40,
      "outputs": [
        {
          "output_type": "execute_result",
          "data": {
            "text/plain": [
              "'yash'"
            ],
            "application/vnd.google.colaboratory.intrinsic+json": {
              "type": "string"
            }
          },
          "metadata": {},
          "execution_count": 40
        }
      ]
    },
    {
      "cell_type": "code",
      "source": [
        "mydictionary={1:\"yash\",2:\"aman\",3:\"aditiya\"}\n",
        "mydictionary[1]= 2\n",
        "mydictionary"
      ],
      "metadata": {
        "colab": {
          "base_uri": "https://localhost:8080/"
        },
        "id": "pANb_UwoZOoT",
        "outputId": "7311d94a-be0f-47c3-bc49-8c5a260df260"
      },
      "execution_count": 42,
      "outputs": [
        {
          "output_type": "execute_result",
          "data": {
            "text/plain": [
              "{1: 2, 2: 'aman', 3: 'aditiya'}"
            ]
          },
          "metadata": {},
          "execution_count": 42
        }
      ]
    },
    {
      "cell_type": "code",
      "source": [
        "mydictionary={1:\"yash\",2:\"aman\",3:\"aditiya\"}\n",
        "mydictionary[10]= \"pareek\"\n",
        "mydictionary"
      ],
      "metadata": {
        "colab": {
          "base_uri": "https://localhost:8080/"
        },
        "id": "95ZIOeIrZxN6",
        "outputId": "23c3eb43-9f7f-42f9-e712-59567ba10422"
      },
      "execution_count": 43,
      "outputs": [
        {
          "output_type": "execute_result",
          "data": {
            "text/plain": [
              "{1: 'yash', 2: 'aman', 3: 'aditiya', 10: 'pareek'}"
            ]
          },
          "metadata": {},
          "execution_count": 43
        }
      ]
    },
    {
      "cell_type": "code",
      "source": [
        "#to delete\n",
        "mydictionary={1:\"yash\",2:\"aman\",3:\"aditiya\"}\n",
        "mydictionary.pop(2)\n",
        "mydictionary"
      ],
      "metadata": {
        "colab": {
          "base_uri": "https://localhost:8080/"
        },
        "id": "IYRs7VRPZ0gZ",
        "outputId": "15aa168b-cd79-4833-aaec-ebb0e68959d5"
      },
      "execution_count": 44,
      "outputs": [
        {
          "output_type": "execute_result",
          "data": {
            "text/plain": [
              "{1: 'yash', 3: 'aditiya'}"
            ]
          },
          "metadata": {},
          "execution_count": 44
        }
      ]
    },
    {
      "cell_type": "code",
      "source": [
        "#to chceck the key and value of a dicitionary\n",
        "mydictionary= {1:\"yash\",\"name\": \"aman\",33:\"aditiya\"}\n",
        "mydictionary.keys()\n",
        "mydictionary.values()\n"
      ],
      "metadata": {
        "colab": {
          "base_uri": "https://localhost:8080/"
        },
        "id": "5iQ3AQRBZ_6l",
        "outputId": "1772fbe5-f161-4d25-dae2-32fae1909834"
      },
      "execution_count": 48,
      "outputs": [
        {
          "output_type": "execute_result",
          "data": {
            "text/plain": [
              "dict_values(['yash', 'aman', 'aditiya'])"
            ]
          },
          "metadata": {},
          "execution_count": 48
        }
      ]
    },
    {
      "cell_type": "code",
      "source": [
        "#items is used check both value and key\n",
        "mydictionary= {1:\"yash\",\"name\": \"aman\",33:\"aditiya\"}\n",
        "mydictionary.items()"
      ],
      "metadata": {
        "colab": {
          "base_uri": "https://localhost:8080/"
        },
        "id": "HvwKQSbaafHT",
        "outputId": "d4e5ec00-1e0f-4f9d-e4dc-a5a111fd7f48"
      },
      "execution_count": 50,
      "outputs": [
        {
          "output_type": "execute_result",
          "data": {
            "text/plain": [
              "dict_items([(1, 'yash'), ('name', 'aman'), (33, 'aditiya')])"
            ]
          },
          "metadata": {},
          "execution_count": 50
        }
      ]
    },
    {
      "cell_type": "code",
      "source": [
        "#iterable values are those on which loop can be made\n",
        "mydictionary= {1:\"yash\",\"name\": \"aman\",33:\"aditiya\"}\n",
        "for x in mydictionary:\n",
        "  print(x,mydictionary[x])"
      ],
      "metadata": {
        "colab": {
          "base_uri": "https://localhost:8080/"
        },
        "id": "rsTNdRZiaqag",
        "outputId": "ac86b29d-0548-4bcf-fe2d-9a619a50f649"
      },
      "execution_count": 51,
      "outputs": [
        {
          "output_type": "stream",
          "name": "stdout",
          "text": [
            "1 yash\n",
            "name aman\n",
            "33 aditiya\n"
          ]
        }
      ]
    },
    {
      "cell_type": "code",
      "source": [
        "mydictionary= {1:\"yash\",\"name\": \"aman\",33:\"aditiya\"}\n",
        "for x in mydictionary.values():\n",
        "  print(x)"
      ],
      "metadata": {
        "colab": {
          "base_uri": "https://localhost:8080/"
        },
        "id": "k02LwI1sbJmf",
        "outputId": "de0e6b59-4863-4939-e0de-4e2a917edf4c"
      },
      "execution_count": 52,
      "outputs": [
        {
          "output_type": "stream",
          "name": "stdout",
          "text": [
            "yash\n",
            "aman\n",
            "aditiya\n"
          ]
        }
      ]
    },
    {
      "cell_type": "code",
      "source": [
        "#Q run a loop in data and find the character in form of dictionary\n",
        "total = 0\n",
        "for i in \"hello12\":\n",
        "  total +=1\n",
        "  print(total)"
      ],
      "metadata": {
        "colab": {
          "base_uri": "https://localhost:8080/"
        },
        "id": "vsMWfxMSbTYb",
        "outputId": "2f940a1a-101c-481b-e7b8-4ad2970983ce"
      },
      "execution_count": 56,
      "outputs": [
        {
          "output_type": "stream",
          "name": "stdout",
          "text": [
            "1\n",
            "2\n",
            "3\n",
            "4\n",
            "5\n",
            "6\n",
            "7\n"
          ]
        }
      ]
    },
    {
      "cell_type": "code",
      "source": [
        "mydictionary={\"total\":0}\n",
        "for x in \"hello12\":\n",
        "  mydictionary[\"total\"]= mydictionary[\"total\"]+1\n",
        "\n",
        "print(mydictionary)"
      ],
      "metadata": {
        "colab": {
          "base_uri": "https://localhost:8080/"
        },
        "id": "tfzo9MFwcfxR",
        "outputId": "80f0d0cc-0a2c-43a4-9e09-9f201ba8365f"
      },
      "execution_count": 57,
      "outputs": [
        {
          "output_type": "stream",
          "name": "stdout",
          "text": [
            "{'total': 7}\n"
          ]
        }
      ]
    },
    {
      "cell_type": "code",
      "source": [
        "#\"hey tushar hello\"\n",
        "#{\"e\":2, \"u\":1, \"o\":1}\n",
        "tvowels= {\"e\":0,\"u\":0,\"o\":0}\n",
        "for i in \"hey tushar hello\":\n",
        "  if i in(\"e\",\"u\",\"o\"):\n",
        "    if (i == \"e\"):\n",
        "      tvowels['e'] +=1\n",
        "    if (i == \"u\"):\n",
        "      tvowels['u'] +=1\n",
        "    if (i == \"o\"):\n",
        "      tvowels['o'] +=1\n",
        "\n",
        "\n",
        "\n",
        "print(tvowels)"
      ],
      "metadata": {
        "colab": {
          "base_uri": "https://localhost:8080/"
        },
        "id": "wD6nOmPYdUo1",
        "outputId": "cf6786a5-edae-4970-8357-aceaf952a411"
      },
      "execution_count": 64,
      "outputs": [
        {
          "output_type": "stream",
          "name": "stdout",
          "text": [
            "{'e': 2, 'u': 1, 'o': 1}\n"
          ]
        }
      ]
    },
    {
      "cell_type": "code",
      "source": [
        "#Assignment Q1:\n",
        "for i in range(1,4):\n",
        "  for j in range(i,3):\n",
        "      print(\" \",end=\" \")\n",
        "  for k in range(1,2*i):\n",
        "      print(i+9,end=\" \")\n",
        "\n",
        "\n",
        "  print()\n"
      ],
      "metadata": {
        "colab": {
          "base_uri": "https://localhost:8080/"
        },
        "id": "PTOc8x-jhK0L",
        "outputId": "023cdd30-b45f-4ad3-ed73-8cffa9447391"
      },
      "execution_count": 83,
      "outputs": [
        {
          "output_type": "stream",
          "name": "stdout",
          "text": [
            "    10 \n",
            "  11 11 11 \n",
            "12 12 12 12 12 \n"
          ]
        }
      ]
    },
    {
      "cell_type": "code",
      "source": [
        "\n",
        "for i in range(1,4):\n",
        "  for j in range(i,3):\n",
        "      print(\" \",end=\" \")\n",
        "  for k in range(1,2*i):\n",
        "      print(\"*\",end=\" \")\n",
        "\n",
        "\n",
        "  print()\n"
      ],
      "metadata": {
        "colab": {
          "base_uri": "https://localhost:8080/"
        },
        "id": "FMvCV4IfjVTl",
        "outputId": "53f038ce-3726-40c8-8312-93da5ceca6b7"
      },
      "execution_count": 87,
      "outputs": [
        {
          "output_type": "stream",
          "name": "stdout",
          "text": [
            "    * \n",
            "  * * * \n",
            "* * * * * \n"
          ]
        }
      ]
    },
    {
      "cell_type": "code",
      "source": [
        "for i in range(1,5):\n",
        "  for j in range(i,4):\n",
        "      print(\" \",end=\" \")\n",
        "  for k in range(0,i):\n",
        "      print(\"*\",end=\" \")\n",
        "  print()"
      ],
      "metadata": {
        "colab": {
          "base_uri": "https://localhost:8080/"
        },
        "id": "W9FSR44pk3ZF",
        "outputId": "d9dbef42-ecb0-4c60-86e3-7f21597871d6"
      },
      "execution_count": 92,
      "outputs": [
        {
          "output_type": "stream",
          "name": "stdout",
          "text": [
            "      * \n",
            "    * * \n",
            "  * * * \n",
            "* * * * \n"
          ]
        }
      ]
    },
    {
      "cell_type": "code",
      "source": [
        "for i in range(1,6):\n",
        "  for j in range(1,i):\n",
        "      print(\"*\",end=\" \")\n",
        "  for k in range(i,4):\n",
        "    print(\" \",end=\" \")\n",
        "  print()"
      ],
      "metadata": {
        "colab": {
          "base_uri": "https://localhost:8080/"
        },
        "id": "jElS6FTNlVtb",
        "outputId": "12053019-a1d7-497e-85a0-3fa1ad2ec6c7"
      },
      "execution_count": 104,
      "outputs": [
        {
          "output_type": "stream",
          "name": "stdout",
          "text": [
            "      \n",
            "*     \n",
            "* *   \n",
            "* * * \n",
            "* * * * \n"
          ]
        }
      ]
    },
    {
      "cell_type": "code",
      "source": [],
      "metadata": {
        "id": "U8GsGlMXmYdT"
      },
      "execution_count": null,
      "outputs": []
    }
  ]
}