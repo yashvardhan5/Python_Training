{
  "nbformat": 4,
  "nbformat_minor": 0,
  "metadata": {
    "colab": {
      "provenance": [],
      "authorship_tag": "ABX9TyPpgLjzqcnTnT/ChPJEfh8M",
      "include_colab_link": true
    },
    "kernelspec": {
      "name": "python3",
      "display_name": "Python 3"
    },
    "language_info": {
      "name": "python"
    }
  },
  "cells": [
    {
      "cell_type": "markdown",
      "metadata": {
        "id": "view-in-github",
        "colab_type": "text"
      },
      "source": [
        "<a href=\"https://colab.research.google.com/github/yashvardhan5/python-day1-2/blob/Day3/Python_Day_3.ipynb\" target=\"_parent\"><img src=\"https://colab.research.google.com/assets/colab-badge.svg\" alt=\"Open In Colab\"/></a>"
      ]
    },
    {
      "cell_type": "code",
      "execution_count": null,
      "metadata": {
        "colab": {
          "base_uri": "https://localhost:8080/"
        },
        "id": "9Jcei6Zm9lNY",
        "outputId": "09b993ef-b250-4f7e-f8bb-0948af0f8f42"
      },
      "outputs": [
        {
          "output_type": "stream",
          "name": "stdout",
          "text": [
            "hello yash\n"
          ]
        }
      ],
      "source": [
        "print(\"hello yash\")"
      ]
    },
    {
      "cell_type": "code",
      "source": [
        "#loops=> repetative karwana\n",
        "print(\"hey\")\n",
        "print(\"hey\")\n",
        "print(\"hey\")\n",
        "print(\"hey\")"
      ],
      "metadata": {
        "id": "o7hau7M7-oVy",
        "colab": {
          "base_uri": "https://localhost:8080/"
        },
        "outputId": "d61dfcab-12c7-4448-a912-2e6ae7a01cc5"
      },
      "execution_count": null,
      "outputs": [
        {
          "output_type": "stream",
          "name": "stdout",
          "text": [
            "hey\n"
          ]
        }
      ]
    },
    {
      "cell_type": "code",
      "source": [
        "#for loop\n",
        "#while loop\n",
        "#for(i=o;i<10;i++)\n",
        "'''\n",
        "i=0\n",
        "while(i<10)\n",
        "'''"
      ],
      "metadata": {
        "id": "LiN4VAUSKgIa"
      },
      "execution_count": null,
      "outputs": []
    },
    {
      "cell_type": "code",
      "source": [
        "#for(i=o;i<10;i++) => range()\n",
        "for x in range(1,4):\n",
        "  print(\"hey\")"
      ],
      "metadata": {
        "colab": {
          "base_uri": "https://localhost:8080/"
        },
        "id": "db0Cowq9LXBG",
        "outputId": "8b54b0b5-43ec-47f1-8f06-d8725a24af9a"
      },
      "execution_count": null,
      "outputs": [
        {
          "output_type": "stream",
          "name": "stdout",
          "text": [
            "hey\n",
            "hey\n",
            "hey\n"
          ]
        }
      ]
    },
    {
      "cell_type": "code",
      "source": [
        "#for(i=o;i<10;i++) => range()\n",
        "for x in range(4):\n",
        "  print(\"hey\")"
      ],
      "metadata": {
        "colab": {
          "base_uri": "https://localhost:8080/"
        },
        "id": "vCVUe1SiLxI_",
        "outputId": "c0ab5e66-27fa-4649-cf38-15d6565d8c13"
      },
      "execution_count": null,
      "outputs": [
        {
          "output_type": "stream",
          "name": "stdout",
          "text": [
            "hey\n",
            "hey\n",
            "hey\n",
            "hey\n"
          ]
        }
      ]
    },
    {
      "cell_type": "code",
      "source": [
        "#for(i=o;i<10;i++) => range()\n",
        "for x in range(2,4,2):\n",
        "  print(\"hey\")"
      ],
      "metadata": {
        "colab": {
          "base_uri": "https://localhost:8080/"
        },
        "id": "OFKQGUMhL-3K",
        "outputId": "d73c60ee-8553-4b5e-b50e-3466735b4fd5"
      },
      "execution_count": null,
      "outputs": [
        {
          "output_type": "stream",
          "name": "stdout",
          "text": [
            "hey\n"
          ]
        }
      ]
    },
    {
      "cell_type": "code",
      "source": [
        "  total=0\n",
        "for x in range(1,10):\n",
        "   total +=x\n",
        "print(total)"
      ],
      "metadata": {
        "colab": {
          "base_uri": "https://localhost:8080/"
        },
        "id": "UQgNbV91MSlg",
        "outputId": "95ad508f-f7dc-4d33-c7a4-4fa28fa097e7"
      },
      "execution_count": null,
      "outputs": [
        {
          "output_type": "stream",
          "name": "stdout",
          "text": [
            "45\n"
          ]
        }
      ]
    },
    {
      "cell_type": "code",
      "source": [
        "for x in range(3,18):\n",
        "  if(x%2==0):\n",
        "    print(x)\n"
      ],
      "metadata": {
        "colab": {
          "base_uri": "https://localhost:8080/"
        },
        "id": "9TlbuRrVNsbM",
        "outputId": "4da40442-d7ce-4edb-b5fd-f9cca8aa1c8f"
      },
      "execution_count": null,
      "outputs": [
        {
          "output_type": "stream",
          "name": "stdout",
          "text": [
            "4\n",
            "6\n",
            "8\n",
            "10\n",
            "12\n",
            "14\n",
            "16\n"
          ]
        }
      ]
    },
    {
      "cell_type": "code",
      "source": [
        "total = 1\n",
        "for x in range(98,2,-1):\n",
        "  if(x%5==0):\n",
        "    print(x)\n",
        "    total = total * x\n",
        "print(total )"
      ],
      "metadata": {
        "colab": {
          "base_uri": "https://localhost:8080/"
        },
        "id": "vXy6rn5qOB5K",
        "outputId": "3ecc98de-c6e4-40fe-cd22-a47f599517c5"
      },
      "execution_count": 10,
      "outputs": [
        {
          "output_type": "stream",
          "name": "stdout",
          "text": [
            "95\n",
            "90\n",
            "85\n",
            "80\n",
            "75\n",
            "70\n",
            "65\n",
            "60\n",
            "55\n",
            "50\n",
            "45\n",
            "40\n",
            "35\n",
            "30\n",
            "25\n",
            "20\n",
            "15\n",
            "10\n",
            "5\n",
            "2320196159531250000000000000000\n"
          ]
        }
      ]
    },
    {
      "cell_type": "code",
      "source": [
        "#loop string data\n",
        "for x in \"hey\":\n",
        "  print(x)"
      ],
      "metadata": {
        "colab": {
          "base_uri": "https://localhost:8080/"
        },
        "id": "Dwx1I6BrOzWF",
        "outputId": "3f6783d1-a01d-44bf-ce1f-4427c50d4961"
      },
      "execution_count": null,
      "outputs": [
        {
          "output_type": "stream",
          "name": "stdout",
          "text": [
            "h\n",
            "e\n",
            "y\n"
          ]
        }
      ]
    },
    {
      "cell_type": "code",
      "source": [
        "data =\"hey\"\n",
        "for i in range(0,3):\n",
        "  print(i, data, data[i])"
      ],
      "metadata": {
        "colab": {
          "base_uri": "https://localhost:8080/"
        },
        "id": "452a0DjNPXN-",
        "outputId": "08e1d62d-bcc5-491a-9277-d331ac3831e7"
      },
      "execution_count": null,
      "outputs": [
        {
          "output_type": "stream",
          "name": "stdout",
          "text": [
            "0 hey h\n",
            "1 hey e\n",
            "2 hey y\n"
          ]
        }
      ]
    },
    {
      "cell_type": "code",
      "source": [
        "data= \"hello hey\"\n",
        "for i in range(0, len(data)):\n",
        "  print(i, data[i])"
      ],
      "metadata": {
        "colab": {
          "base_uri": "https://localhost:8080/"
        },
        "id": "z8S248ysQADS",
        "outputId": "229ecce3-df42-48b2-b87b-f089f8ff0556"
      },
      "execution_count": null,
      "outputs": [
        {
          "output_type": "stream",
          "name": "stdout",
          "text": [
            "0 h\n",
            "1 e\n",
            "2 l\n",
            "3 l\n",
            "4 o\n",
            "5  \n",
            "6 h\n",
            "7 e\n",
            "8 y\n"
          ]
        }
      ]
    },
    {
      "cell_type": "code",
      "source": [
        "data= \"hello hey\"\n",
        "for i in range(0, len(data),2):\n",
        "      print(i, data[i])"
      ],
      "metadata": {
        "colab": {
          "base_uri": "https://localhost:8080/"
        },
        "id": "Vk4BTV8qQn4-",
        "outputId": "475b3d0b-3e2a-4d09-d174-17534d5a36e2"
      },
      "execution_count": null,
      "outputs": [
        {
          "output_type": "stream",
          "name": "stdout",
          "text": [
            "0 h\n",
            "2 l\n",
            "4 o\n",
            "6 h\n",
            "8 y\n"
          ]
        }
      ]
    },
    {
      "cell_type": "code",
      "source": [
        "#total product\n",
        "total = 1\n",
        "for x in range(15,100):\n",
        "  if(x%2==0 and x%3==0):\n",
        "    print(x)\n",
        "    total = total*x\n",
        "print(total)"
      ],
      "metadata": {
        "colab": {
          "base_uri": "https://localhost:8080/"
        },
        "id": "q04KDY85RJL7",
        "outputId": "1fad3623-6644-48e0-fab1-ef424b0327e5"
      },
      "execution_count": null,
      "outputs": [
        {
          "output_type": "stream",
          "name": "stdout",
          "text": [
            "18\n",
            "24\n",
            "30\n",
            "36\n",
            "42\n",
            "48\n",
            "54\n",
            "60\n",
            "66\n",
            "72\n",
            "78\n",
            "84\n",
            "90\n",
            "96\n",
            "819798470064680730624000\n"
          ]
        }
      ]
    },
    {
      "cell_type": "code",
      "source": [
        "data= \"ALPHABET I LOVE YOU\"\n",
        "for i in data:\n",
        "  print(i)\n",
        "  if i in (\"a\",\"e\",\"i\",\"o\",\"u\"):\n",
        "    if i in(\"a\"):\n",
        "      a +=1\n",
        "    if i in(\"e\"):\n",
        "      e +=1\n",
        "    if i in(\"i\"):\n",
        "      i +=1\n",
        "\n",
        "    if i in(\"o\"):\n",
        "      o +=1\n",
        "    if i in(\"u\"):\n",
        "      u +=1\n",
        "print(f\"it has all vowel{i}\")\n"
      ],
      "metadata": {
        "colab": {
          "base_uri": "https://localhost:8080/"
        },
        "id": "iKVY7lz5S6A9",
        "outputId": "9715fb0c-7635-4a1a-8fc5-22108bdbda61"
      },
      "execution_count": null,
      "outputs": [
        {
          "output_type": "stream",
          "name": "stdout",
          "text": [
            "A\n",
            "L\n",
            "P\n",
            "H\n",
            "A\n",
            "B\n",
            "E\n",
            "T\n",
            " \n",
            "I\n",
            " \n",
            "L\n",
            "O\n",
            "V\n",
            "E\n",
            " \n",
            "Y\n",
            "O\n",
            "U\n",
            "it has all vowelU\n"
          ]
        }
      ]
    },
    {
      "cell_type": "code",
      "source": [
        "data= \"aleistosus\"\n",
        "vowels = set('a','e','i','o','u')\n",
        "found_vowels = set()\n",
        "for char in data:\n",
        "      if char in vowels:\n",
        "         found_vowels.add(char)\n",
        "         if len(found_vowels)==5:\n",
        "           break\n",
        "if len(found_vowels)==5:\n",
        "  return true\n",
        "else:\n",
        "      return false\n"
      ],
      "metadata": {
        "colab": {
          "base_uri": "https://localhost:8080/",
          "height": 211
        },
        "id": "O138CZl_U348",
        "outputId": "0060fa2e-cca9-4a08-8b0c-8cbbdac3b8ea"
      },
      "execution_count": 72,
      "outputs": [
        {
          "output_type": "error",
          "ename": "TypeError",
          "evalue": "set expected at most 1 argument, got 5",
          "traceback": [
            "\u001b[0;31m---------------------------------------------------------------------------\u001b[0m",
            "\u001b[0;31mTypeError\u001b[0m                                 Traceback (most recent call last)",
            "\u001b[0;32m<ipython-input-72-019bef918da0>\u001b[0m in \u001b[0;36m<cell line: 2>\u001b[0;34m()\u001b[0m\n\u001b[1;32m      1\u001b[0m \u001b[0mdata\u001b[0m\u001b[0;34m=\u001b[0m \u001b[0;34m\"aleistosus\"\u001b[0m\u001b[0;34m\u001b[0m\u001b[0;34m\u001b[0m\u001b[0m\n\u001b[0;32m----> 2\u001b[0;31m \u001b[0mvowels\u001b[0m \u001b[0;34m=\u001b[0m \u001b[0mset\u001b[0m\u001b[0;34m(\u001b[0m\u001b[0;34m'a'\u001b[0m\u001b[0;34m,\u001b[0m\u001b[0;34m'e'\u001b[0m\u001b[0;34m,\u001b[0m\u001b[0;34m'i'\u001b[0m\u001b[0;34m,\u001b[0m\u001b[0;34m'o'\u001b[0m\u001b[0;34m,\u001b[0m\u001b[0;34m'u'\u001b[0m\u001b[0;34m)\u001b[0m\u001b[0;34m\u001b[0m\u001b[0;34m\u001b[0m\u001b[0m\n\u001b[0m\u001b[1;32m      3\u001b[0m \u001b[0mfound_vowels\u001b[0m \u001b[0;34m=\u001b[0m \u001b[0mset\u001b[0m\u001b[0;34m(\u001b[0m\u001b[0;34m)\u001b[0m\u001b[0;34m\u001b[0m\u001b[0;34m\u001b[0m\u001b[0m\n\u001b[1;32m      4\u001b[0m \u001b[0;32mfor\u001b[0m \u001b[0mchar\u001b[0m \u001b[0;32min\u001b[0m \u001b[0mdata\u001b[0m\u001b[0;34m:\u001b[0m\u001b[0;34m\u001b[0m\u001b[0;34m\u001b[0m\u001b[0m\n\u001b[1;32m      5\u001b[0m       \u001b[0;32mif\u001b[0m \u001b[0mchar\u001b[0m \u001b[0;32min\u001b[0m \u001b[0mvowels\u001b[0m\u001b[0;34m:\u001b[0m\u001b[0;34m\u001b[0m\u001b[0;34m\u001b[0m\u001b[0m\n",
            "\u001b[0;31mTypeError\u001b[0m: set expected at most 1 argument, got 5"
          ]
        }
      ]
    },
    {
      "cell_type": "code",
      "source": [
        "for i in range(1,5):\n",
        "  print(\"hello\", i)\n",
        "  for j in range(1,3):\n",
        "    print(\"regex\")"
      ],
      "metadata": {
        "colab": {
          "base_uri": "https://localhost:8080/"
        },
        "id": "3yeqdl4gVUpR",
        "outputId": "2765f5b5-9f31-4cf4-d75b-7e423f26a935"
      },
      "execution_count": null,
      "outputs": [
        {
          "output_type": "stream",
          "name": "stdout",
          "text": [
            "hello 1\n",
            "regex\n",
            "regex\n",
            "hello 2\n",
            "regex\n",
            "regex\n",
            "hello 3\n",
            "regex\n",
            "regex\n",
            "hello 4\n",
            "regex\n",
            "regex\n"
          ]
        }
      ]
    },
    {
      "cell_type": "code",
      "source": [
        "for i in range(1,3):\n",
        "\n",
        "  for j in range(1,5):\n",
        "    print(\"regex\",i,j)"
      ],
      "metadata": {
        "colab": {
          "base_uri": "https://localhost:8080/"
        },
        "id": "zWZHKAQtWa8a",
        "outputId": "f9c91ec6-fbbd-462c-a06c-61304c9c637a"
      },
      "execution_count": null,
      "outputs": [
        {
          "output_type": "stream",
          "name": "stdout",
          "text": [
            "regex 1 1\n",
            "regex 1 2\n",
            "regex 1 3\n",
            "regex 1 4\n",
            "regex 2 1\n",
            "regex 2 2\n",
            "regex 2 3\n",
            "regex 2 4\n"
          ]
        }
      ]
    },
    {
      "cell_type": "code",
      "source": [
        "for i in range(1,3):\n",
        "\n",
        "  for j in range(1,5):\n",
        "    print(\"*\",end=\" \")"
      ],
      "metadata": {
        "colab": {
          "base_uri": "https://localhost:8080/"
        },
        "id": "N98ZXRapW4vI",
        "outputId": "01abde51-9d0f-4fd9-c691-8d895df29cf0"
      },
      "execution_count": null,
      "outputs": [
        {
          "output_type": "stream",
          "name": "stdout",
          "text": [
            "* * * * * * * * "
          ]
        }
      ]
    },
    {
      "cell_type": "code",
      "source": [
        "for i in range(1,3):\n",
        "\n",
        "  for j in range(1,5):\n",
        "    print(\"*\",end=\" \")\n",
        "  print(\"\")"
      ],
      "metadata": {
        "colab": {
          "base_uri": "https://localhost:8080/"
        },
        "id": "WLOC9zkUXTlD",
        "outputId": "e7dd5928-430c-4deb-bc2f-3f2a7536e294"
      },
      "execution_count": null,
      "outputs": [
        {
          "output_type": "stream",
          "name": "stdout",
          "text": [
            "* * * * \n",
            "* * * * \n"
          ]
        }
      ]
    },
    {
      "cell_type": "code",
      "source": [
        "for i in range(1,4):\n",
        "\n",
        "  for j in range(1,6):\n",
        "    print(\"*\",end=\" \")\n",
        "  print(\"\")"
      ],
      "metadata": {
        "colab": {
          "base_uri": "https://localhost:8080/"
        },
        "id": "bYPAG4gyXiU5",
        "outputId": "6818febe-2ad9-481e-9ccb-c07781906f3a"
      },
      "execution_count": null,
      "outputs": [
        {
          "output_type": "stream",
          "name": "stdout",
          "text": [
            "* * * * * \n",
            "* * * * * \n",
            "* * * * * \n"
          ]
        }
      ]
    },
    {
      "cell_type": "code",
      "source": [
        "for i in range(1,4):\n",
        "\n",
        "  for j in range(6,2,-1):\n",
        "    print(j,end=\" \")\n",
        "  print(\"\")"
      ],
      "metadata": {
        "colab": {
          "base_uri": "https://localhost:8080/"
        },
        "id": "slpBl1SJXxl8",
        "outputId": "598e7666-ddac-4d86-8ebb-338f7092a9d4"
      },
      "execution_count": null,
      "outputs": [
        {
          "output_type": "stream",
          "name": "stdout",
          "text": [
            "6 5 4 3 \n",
            "6 5 4 3 \n",
            "6 5 4 3 \n"
          ]
        }
      ]
    },
    {
      "cell_type": "code",
      "source": [
        "x =10\n",
        "for i in range(1,5):\n",
        "\n",
        "  for j in range(6,1,-1):\n",
        "     print(x,end=\" \")\n",
        "     x = x+1\n",
        "  print()"
      ],
      "metadata": {
        "colab": {
          "base_uri": "https://localhost:8080/"
        },
        "id": "gfSXEZyzYLni",
        "outputId": "3a4cce3d-69b0-47d2-afcf-4bc838e7dbf6"
      },
      "execution_count": null,
      "outputs": [
        {
          "output_type": "stream",
          "name": "stdout",
          "text": [
            "10 11 12 13 14 \n",
            "15 16 17 18 19 \n",
            "20 21 22 23 24 \n",
            "25 26 27 28 29 \n"
          ]
        }
      ]
    },
    {
      "cell_type": "code",
      "source": [
        "for i in range(1,5):\n",
        "  for j in range(1,6):\n",
        "    print(\"*\",end = \" \")\n",
        "  print(\"\")"
      ],
      "metadata": {
        "colab": {
          "base_uri": "https://localhost:8080/"
        },
        "id": "-V42O_eLZ9pp",
        "outputId": "1657c5b1-9dd1-4e14-b1c1-2efd754f8e71"
      },
      "execution_count": null,
      "outputs": [
        {
          "output_type": "stream",
          "name": "stdout",
          "text": [
            "* * * * * \n",
            "* * * * * \n",
            "* * * * * \n",
            "* * * * * \n"
          ]
        }
      ]
    },
    {
      "cell_type": "code",
      "source": [
        "#Q3\n",
        "for i in range(1,5):\n",
        "  for j in range(5,i,-1):\n",
        "    print(\"*\",end = \" \")\n",
        "  print(\"\")"
      ],
      "metadata": {
        "colab": {
          "base_uri": "https://localhost:8080/"
        },
        "id": "qXaorFAOd5lH",
        "outputId": "5be378a7-8cb7-4067-ff9e-fe76c60526c9"
      },
      "execution_count": null,
      "outputs": [
        {
          "output_type": "stream",
          "name": "stdout",
          "text": [
            "* * * * \n",
            "* * * \n",
            "* * \n",
            "* \n"
          ]
        }
      ]
    },
    {
      "cell_type": "code",
      "source": [
        "#Q2\n",
        "for i in range(1,6):\n",
        "  for j in range(0,i):\n",
        "    print(i,end = \" \")\n",
        "  print(\"\")"
      ],
      "metadata": {
        "colab": {
          "base_uri": "https://localhost:8080/"
        },
        "id": "eGJm4d8XeS6Q",
        "outputId": "122cbfec-1e81-4198-9e46-799d0d0e1d24"
      },
      "execution_count": null,
      "outputs": [
        {
          "output_type": "stream",
          "name": "stdout",
          "text": [
            "1 \n",
            "2 2 \n",
            "3 3 3 \n",
            "4 4 4 4 \n",
            "5 5 5 5 5 \n"
          ]
        }
      ]
    },
    {
      "cell_type": "code",
      "source": [
        "#Q5\n",
        "for i in range(1,6):\n",
        "  for j in range(5,i,-1):\n",
        "    print(i,end = \" \")\n",
        "  print(\"\")"
      ],
      "metadata": {
        "colab": {
          "base_uri": "https://localhost:8080/"
        },
        "id": "-BmGYzRBfQqa",
        "outputId": "743fa8d6-542c-4aec-fadb-7eda9bca5e66"
      },
      "execution_count": null,
      "outputs": [
        {
          "output_type": "stream",
          "name": "stdout",
          "text": [
            "1 1 1 1 \n",
            "2 2 2 \n",
            "3 3 \n",
            "4 \n",
            "\n"
          ]
        }
      ]
    },
    {
      "cell_type": "code",
      "source": [
        "#Q1\n",
        "for i in range(1,5):\n",
        "  for j in range(0,i):\n",
        "    print(\"*\",end = \" \")\n",
        "  print(\"\")"
      ],
      "metadata": {
        "colab": {
          "base_uri": "https://localhost:8080/"
        },
        "id": "-NBW-L40fb6n",
        "outputId": "1e82a157-e1cf-4273-9191-8261581ffd63"
      },
      "execution_count": 73,
      "outputs": [
        {
          "output_type": "stream",
          "name": "stdout",
          "text": [
            "* \n",
            "* * \n",
            "* * * \n",
            "* * * * \n"
          ]
        }
      ]
    },
    {
      "cell_type": "code",
      "source": [
        "#Q4\n",
        "for i in range(5,0,-1):\n",
        "  for j in range(5,i,-1):\n",
        "    print(i,end=\" \")\n",
        "  print(\" \")"
      ],
      "metadata": {
        "colab": {
          "base_uri": "https://localhost:8080/"
        },
        "id": "uFt-NcoTfyzG",
        "outputId": "7cf6717f-765e-4357-9b52-a41ac40d1a3b"
      },
      "execution_count": 90,
      "outputs": [
        {
          "output_type": "stream",
          "name": "stdout",
          "text": [
            " \n",
            "4  \n",
            "3 3  \n",
            "2 2 2  \n",
            "1 1 1 1  \n"
          ]
        }
      ]
    },
    {
      "cell_type": "code",
      "source": [
        "#Q5\n",
        "for i in range(1,5):\n",
        "  for j in range(5,i,-1):\n",
        "    print(i,end=\" \")\n",
        "  print(\"\")"
      ],
      "metadata": {
        "colab": {
          "base_uri": "https://localhost:8080/"
        },
        "id": "r337iInj_lVq",
        "outputId": "22eeaf8d-4e5f-486a-8d5a-5d3c187c2b64"
      },
      "execution_count": 103,
      "outputs": [
        {
          "output_type": "stream",
          "name": "stdout",
          "text": [
            "1 1 1 1 \n",
            "2 2 2 \n",
            "3 3 \n",
            "4 \n"
          ]
        }
      ]
    },
    {
      "cell_type": "code",
      "source": [
        "#Q6\n",
        "total=10\n",
        "for i in range(1,5):\n",
        "  for j in range(5,i,-1):\n",
        "    print(total,end= \" \")\n",
        "  total +=1\n",
        "  print(\"\")"
      ],
      "metadata": {
        "colab": {
          "base_uri": "https://localhost:8080/"
        },
        "id": "hAtVa0_GA-z0",
        "outputId": "c36c4860-5c05-4625-f221-325292bcdd60"
      },
      "execution_count": 112,
      "outputs": [
        {
          "output_type": "stream",
          "name": "stdout",
          "text": [
            "10 10 10 10 \n",
            "11 11 11 \n",
            "12 12 \n",
            "13 \n"
          ]
        }
      ]
    }
  ]
}