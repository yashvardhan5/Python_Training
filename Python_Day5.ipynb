{
  "nbformat": 4,
  "nbformat_minor": 0,
  "metadata": {
    "colab": {
      "provenance": [],
      "authorship_tag": "ABX9TyNGTcg+30gFlR6Yfk4m4Bh/",
      "include_colab_link": true
    },
    "kernelspec": {
      "name": "python3",
      "display_name": "Python 3"
    },
    "language_info": {
      "name": "python"
    }
  },
  "cells": [
    {
      "cell_type": "markdown",
      "metadata": {
        "id": "view-in-github",
        "colab_type": "text"
      },
      "source": [
        "<a href=\"https://colab.research.google.com/github/yashvardhan5/python-day1-2/blob/DAY-5/Python_Day5.ipynb\" target=\"_parent\"><img src=\"https://colab.research.google.com/assets/colab-badge.svg\" alt=\"Open In Colab\"/></a>"
      ]
    },
    {
      "cell_type": "code",
      "execution_count": null,
      "metadata": {
        "colab": {
          "base_uri": "https://localhost:8080/"
        },
        "id": "gTebbBMkxEYs",
        "outputId": "ddc27b04-2d0f-4956-f442-cc6e75c1c95c"
      },
      "outputs": [
        {
          "output_type": "execute_result",
          "data": {
            "text/plain": [
              "dict"
            ]
          },
          "metadata": {},
          "execution_count": 1
        }
      ],
      "source": [
        "#SET=> used to collect multiple data element\n",
        "#these data are unique\n",
        "#set are unordered\n",
        "#no index\n",
        "myset={}\n",
        "type(myset)\n",
        "#gives a dictionary value when empty"
      ]
    },
    {
      "cell_type": "code",
      "source": [
        "myset={10,20,30,\"hey\"}\n",
        "print(type(myset))"
      ],
      "metadata": {
        "colab": {
          "base_uri": "https://localhost:8080/"
        },
        "id": "EZEEHpooy-jm",
        "outputId": "15174077-afb1-45b2-c5d5-5eea085a9b32"
      },
      "execution_count": null,
      "outputs": [
        {
          "output_type": "stream",
          "name": "stdout",
          "text": [
            "<class 'set'>\n"
          ]
        }
      ]
    },
    {
      "cell_type": "code",
      "source": [
        "myset={10,20,30,\"hey\",10,10,99}\n",
        "print(type(myset),myset)\n",
        "#no duplicate value"
      ],
      "metadata": {
        "colab": {
          "base_uri": "https://localhost:8080/"
        },
        "id": "MWALWFT-zODP",
        "outputId": "c6ac3fd4-10de-4c0b-ff9b-a6fdd2c307fa"
      },
      "execution_count": null,
      "outputs": [
        {
          "output_type": "stream",
          "name": "stdout",
          "text": [
            "<class 'set'> {99, 20, 'hey', 10, 30}\n"
          ]
        }
      ]
    },
    {
      "cell_type": "code",
      "source": [
        "myset={10,20,30,\"hey\",10,10,99}\n",
        "print(myset[0])\n",
        "#no index value"
      ],
      "metadata": {
        "colab": {
          "base_uri": "https://localhost:8080/",
          "height": 176
        },
        "id": "zN2cBLepzdNb",
        "outputId": "90e3c14a-0ca7-4963-b8eb-a587f1b77175"
      },
      "execution_count": null,
      "outputs": [
        {
          "output_type": "error",
          "ename": "TypeError",
          "evalue": "'set' object is not subscriptable",
          "traceback": [
            "\u001b[0;31m---------------------------------------------------------------------------\u001b[0m",
            "\u001b[0;31mTypeError\u001b[0m                                 Traceback (most recent call last)",
            "\u001b[0;32m<ipython-input-4-260222204900>\u001b[0m in \u001b[0;36m<cell line: 2>\u001b[0;34m()\u001b[0m\n\u001b[1;32m      1\u001b[0m \u001b[0mmyset\u001b[0m\u001b[0;34m=\u001b[0m\u001b[0;34m{\u001b[0m\u001b[0;36m10\u001b[0m\u001b[0;34m,\u001b[0m\u001b[0;36m20\u001b[0m\u001b[0;34m,\u001b[0m\u001b[0;36m30\u001b[0m\u001b[0;34m,\u001b[0m\u001b[0;34m\"hey\"\u001b[0m\u001b[0;34m,\u001b[0m\u001b[0;36m10\u001b[0m\u001b[0;34m,\u001b[0m\u001b[0;36m10\u001b[0m\u001b[0;34m,\u001b[0m\u001b[0;36m99\u001b[0m\u001b[0;34m}\u001b[0m\u001b[0;34m\u001b[0m\u001b[0;34m\u001b[0m\u001b[0m\n\u001b[0;32m----> 2\u001b[0;31m \u001b[0mprint\u001b[0m\u001b[0;34m(\u001b[0m\u001b[0mmyset\u001b[0m\u001b[0;34m[\u001b[0m\u001b[0;36m0\u001b[0m\u001b[0;34m]\u001b[0m\u001b[0;34m)\u001b[0m\u001b[0;34m\u001b[0m\u001b[0;34m\u001b[0m\u001b[0m\n\u001b[0m\u001b[1;32m      3\u001b[0m \u001b[0;31m#no duplicate value\u001b[0m\u001b[0;34m\u001b[0m\u001b[0;34m\u001b[0m\u001b[0m\n",
            "\u001b[0;31mTypeError\u001b[0m: 'set' object is not subscriptable"
          ]
        }
      ]
    },
    {
      "cell_type": "code",
      "source": [
        "#to add element in a set\n",
        "myset={10,20,30,\"hey\",10,10,99}\n",
        "myset.add(88)\n",
        "print(myset)"
      ],
      "metadata": {
        "colab": {
          "base_uri": "https://localhost:8080/"
        },
        "id": "7F7FB1MCznm-",
        "outputId": "3ad92cd1-d6de-4088-e65b-eed2075f65f1"
      },
      "execution_count": null,
      "outputs": [
        {
          "output_type": "stream",
          "name": "stdout",
          "text": [
            "{99, 20, 'hey', 10, 88, 30}\n"
          ]
        }
      ]
    },
    {
      "cell_type": "code",
      "source": [
        "#to delete a element in set\n",
        "myset={10,20,30,\"hey\",10,10,99}\n",
        "myset.remove(20)\n",
        "print(myset)"
      ],
      "metadata": {
        "id": "t8WgfRdlzxt5"
      },
      "execution_count": null,
      "outputs": []
    },
    {
      "cell_type": "code",
      "source": [
        "#to delete a element in set(discard)\n",
        "myset={10,20,30,\"hey\",10,10,99}\n",
        "myset.discard(20)\n",
        "print(myset)\n",
        "myset.discard(20)"
      ],
      "metadata": {
        "colab": {
          "base_uri": "https://localhost:8080/"
        },
        "id": "HXN8a1RH0AzR",
        "outputId": "3c9bc72c-c231-4eae-a19d-e30caf0b27e1"
      },
      "execution_count": null,
      "outputs": [
        {
          "output_type": "stream",
          "name": "stdout",
          "text": [
            "{99, 'hey', 10, 30}\n"
          ]
        }
      ]
    },
    {
      "cell_type": "code",
      "source": [
        "#for union\n",
        "#to delete a element in set\n",
        "myset={10,20,30,\"hey\",10,10,99}\n",
        "mysetb={20,40,55,65}\n",
        "myset.union(mysetb)"
      ],
      "metadata": {
        "colab": {
          "base_uri": "https://localhost:8080/"
        },
        "id": "T5F9GJe50OyS",
        "outputId": "57e9b4f9-064d-4cca-b723-b0bb7560b35a"
      },
      "execution_count": null,
      "outputs": [
        {
          "output_type": "execute_result",
          "data": {
            "text/plain": [
              "{10, 20, 30, 40, 55, 65, 99, 'hey'}"
            ]
          },
          "metadata": {},
          "execution_count": 7
        }
      ]
    },
    {
      "cell_type": "code",
      "source": [
        "#FUNCTIONS=> block of code which performs a functionality/task\n",
        "#in language we write'''\n",
        "#    void/int main(){\n",
        "#    statement\n",
        "#      } in python we write\n",
        "# def=> define function\n",
        "def msg():\n",
        "  print(\"hello yash\")"
      ],
      "metadata": {
        "id": "TGJjmi-50srd"
      },
      "execution_count": null,
      "outputs": []
    },
    {
      "cell_type": "code",
      "source": [
        "msg()\n",
        "msg()\n",
        "msg()\n",
        "msg()"
      ],
      "metadata": {
        "colab": {
          "base_uri": "https://localhost:8080/"
        },
        "id": "9GoYD9Td2QAb",
        "outputId": "eab90a58-a617-42df-cf8b-1b3063456ffb"
      },
      "execution_count": null,
      "outputs": [
        {
          "output_type": "stream",
          "name": "stdout",
          "text": [
            "hello yash\n",
            "hello yash\n",
            "hello yash\n",
            "hello yash\n"
          ]
        }
      ]
    },
    {
      "cell_type": "code",
      "source": [
        "def msg(x):\n",
        "  print(\"hello yash\")\n",
        "msg(10)"
      ],
      "metadata": {
        "colab": {
          "base_uri": "https://localhost:8080/"
        },
        "id": "E3gpZP-c2VXG",
        "outputId": "f6ebf7f9-e843-47e5-8fff-3c956836e899"
      },
      "execution_count": null,
      "outputs": [
        {
          "output_type": "stream",
          "name": "stdout",
          "text": [
            "hello yash\n"
          ]
        }
      ]
    },
    {
      "cell_type": "code",
      "source": [
        "#the x here is called the parameter\n",
        "def msg(x):\n",
        "  print(\"hello user\",x)"
      ],
      "metadata": {
        "colab": {
          "base_uri": "https://localhost:8080/"
        },
        "id": "i9wruqKy298X",
        "outputId": "c4884f02-a1ff-491b-82e8-08ad9df9b031"
      },
      "execution_count": null,
      "outputs": [
        {
          "output_type": "stream",
          "name": "stdout",
          "text": [
            "hello user yash\n"
          ]
        }
      ]
    },
    {
      "cell_type": "code",
      "source": [
        "#the value such as yash tushar are the arguments\n",
        "msg(\"yash\")\n",
        "msg(\"tushar\")"
      ],
      "metadata": {
        "id": "Y2JDRT1K3ObM"
      },
      "execution_count": null,
      "outputs": []
    },
    {
      "cell_type": "code",
      "source": [
        "def sumfunc(x,y):\n",
        "  print(x+y)\n",
        "sumfunc(10,20)"
      ],
      "metadata": {
        "colab": {
          "base_uri": "https://localhost:8080/"
        },
        "id": "zryHjxnY3aSh",
        "outputId": "2b2b9c02-1519-42b3-d199-cfd3ee470a6c"
      },
      "execution_count": null,
      "outputs": [
        {
          "output_type": "stream",
          "name": "stdout",
          "text": [
            "30\n"
          ]
        }
      ]
    },
    {
      "cell_type": "code",
      "source": [
        "def sumfunc(x,y):\n",
        "  print(x+y)\n",
        "sumfunc(10,20)\n",
        "sumfunc(30,40)"
      ],
      "metadata": {
        "colab": {
          "base_uri": "https://localhost:8080/"
        },
        "id": "iIIKhhMJ3338",
        "outputId": "8157bd22-308b-420d-d760-e2dfdb23cc95"
      },
      "execution_count": null,
      "outputs": [
        {
          "output_type": "stream",
          "name": "stdout",
          "text": [
            "30\n",
            "70\n"
          ]
        }
      ]
    },
    {
      "cell_type": "code",
      "source": [
        "def func(X1):\n",
        "  print(\"X1: \",X1)\n",
        "func(10)"
      ],
      "metadata": {
        "colab": {
          "base_uri": "https://localhost:8080/"
        },
        "id": "ZPiU0br73_7M",
        "outputId": "08670b3c-8e49-4a5c-a75e-afd8c245ec4b"
      },
      "execution_count": null,
      "outputs": [
        {
          "output_type": "stream",
          "name": "stdout",
          "text": [
            "X1:  10\n"
          ]
        }
      ]
    },
    {
      "cell_type": "code",
      "source": [
        "def func(X1):\n",
        "  print(\"X1: \",X1)\n",
        "func(10)\n",
        "print(X1)\n",
        "#will not run bcz its a local variable the x1 is declared inside the function\n"
      ],
      "metadata": {
        "colab": {
          "base_uri": "https://localhost:8080/",
          "height": 193
        },
        "id": "HjPQGDTO4Z2h",
        "outputId": "d6cb0586-f3fe-4635-aa2a-e40b751d47b7"
      },
      "execution_count": null,
      "outputs": [
        {
          "output_type": "stream",
          "name": "stdout",
          "text": [
            "X1:  10\n"
          ]
        },
        {
          "output_type": "error",
          "ename": "NameError",
          "evalue": "name 'X1' is not defined",
          "traceback": [
            "\u001b[0;31m---------------------------------------------------------------------------\u001b[0m",
            "\u001b[0;31mNameError\u001b[0m                                 Traceback (most recent call last)",
            "\u001b[0;32m<ipython-input-18-1826914e3499>\u001b[0m in \u001b[0;36m<cell line: 4>\u001b[0;34m()\u001b[0m\n\u001b[1;32m      2\u001b[0m   \u001b[0mprint\u001b[0m\u001b[0;34m(\u001b[0m\u001b[0;34m\"X1: \"\u001b[0m\u001b[0;34m,\u001b[0m\u001b[0mX1\u001b[0m\u001b[0;34m)\u001b[0m\u001b[0;34m\u001b[0m\u001b[0;34m\u001b[0m\u001b[0m\n\u001b[1;32m      3\u001b[0m \u001b[0mfunc\u001b[0m\u001b[0;34m(\u001b[0m\u001b[0;36m10\u001b[0m\u001b[0;34m)\u001b[0m\u001b[0;34m\u001b[0m\u001b[0;34m\u001b[0m\u001b[0m\n\u001b[0;32m----> 4\u001b[0;31m \u001b[0mprint\u001b[0m\u001b[0;34m(\u001b[0m\u001b[0mX1\u001b[0m\u001b[0;34m)\u001b[0m\u001b[0;34m\u001b[0m\u001b[0;34m\u001b[0m\u001b[0m\n\u001b[0m",
            "\u001b[0;31mNameError\u001b[0m: name 'X1' is not defined"
          ]
        }
      ]
    },
    {
      "cell_type": "code",
      "source": [
        "def func(X1):\n",
        "  print(\"X1: \",X1)\n",
        "#outside the function => x2 is a global variable\n",
        "X2=99\n",
        "\n",
        "func(X2)\n"
      ],
      "metadata": {
        "colab": {
          "base_uri": "https://localhost:8080/"
        },
        "id": "7znTJBxq4t4V",
        "outputId": "7a6b2eff-5a18-489e-b7e4-db040135b3cc"
      },
      "execution_count": null,
      "outputs": [
        {
          "output_type": "stream",
          "name": "stdout",
          "text": [
            "X1:  99\n"
          ]
        }
      ]
    },
    {
      "cell_type": "code",
      "source": [
        "#this will change the value in the function only to 10000 not on the outside value\n",
        "#if we work on an integer,tuple or etc it will always make a new memory due to which it is called immutalbe\n",
        "def func(X2):\n",
        "  X2=10000\n",
        "  print(\"Inside: \",X2)\n",
        "\n",
        "X2=99\n",
        "\n",
        "func(X2)\n",
        "print(\"outside: \",X2)\n"
      ],
      "metadata": {
        "colab": {
          "base_uri": "https://localhost:8080/"
        },
        "id": "hkbeiEGV4-nu",
        "outputId": "1c2ebd57-82cb-4918-a312-30d406519829"
      },
      "execution_count": null,
      "outputs": [
        {
          "output_type": "stream",
          "name": "stdout",
          "text": [
            "Inside:  10000\n",
            "outside:  99\n"
          ]
        }
      ]
    },
    {
      "cell_type": "code",
      "source": [
        "def func(x):\n",
        "  print(\"inside: \",x,id(x))\n",
        "  #----------\n",
        "x1=10\n",
        "print(\"outside: \", x1,id(x1))\n",
        "func(x1)\n"
      ],
      "metadata": {
        "colab": {
          "base_uri": "https://localhost:8080/"
        },
        "id": "h3v7xAyA5alz",
        "outputId": "c4af85a1-33e9-4030-dade-f8ccf8e9ca9a"
      },
      "execution_count": null,
      "outputs": [
        {
          "output_type": "stream",
          "name": "stdout",
          "text": [
            "outside:  10 137231536488976\n",
            "inside:  10 137231536488976\n"
          ]
        }
      ]
    },
    {
      "cell_type": "code",
      "source": [
        "def func(x):\n",
        "  print(\"inside: \",x,id(x))\n",
        "  x=1000\n",
        "  print(\"changeinside: \",x,id(x))\n",
        "  #----------\n",
        "x1=10\n",
        "print(\"outside: \", x1,id(x1))\n",
        "func(x1)\n"
      ],
      "metadata": {
        "colab": {
          "base_uri": "https://localhost:8080/"
        },
        "id": "0URUYoa17573",
        "outputId": "8a37261d-9d6e-46cc-f62f-68d3346f26e5"
      },
      "execution_count": null,
      "outputs": [
        {
          "output_type": "stream",
          "name": "stdout",
          "text": [
            "outside:  10 137231536488976\n",
            "inside:  10 137231536488976\n",
            "changeinside:  1000 137230253547216\n"
          ]
        }
      ]
    },
    {
      "cell_type": "code",
      "source": [
        "#required argument=> equal no of values should be given to no of variables\n",
        "def employee(eid,ename):\n",
        "  print(f\"eid:{eid} ename:{ename}\")\n",
        "\n",
        "employee(10,\"yash\")"
      ],
      "metadata": {
        "colab": {
          "base_uri": "https://localhost:8080/"
        },
        "id": "06nJKusj8KVQ",
        "outputId": "8e5f12b0-3edb-4116-85a7-ccf8f98a9cd1"
      },
      "execution_count": null,
      "outputs": [
        {
          "output_type": "stream",
          "name": "stdout",
          "text": [
            "eid:10 ename:yash\n"
          ]
        }
      ]
    },
    {
      "cell_type": "code",
      "source": [
        "#position argument=>the values will be provided according to position\n",
        "def employee(eid,ename):\n",
        "  print(f\"eid:{eid} ename:{ename}\")\n",
        "\n",
        "employee(\"yash\",20)"
      ],
      "metadata": {
        "colab": {
          "base_uri": "https://localhost:8080/"
        },
        "id": "YG4bpWrg8oz9",
        "outputId": "565a3b38-1bca-4c35-ee49-f594e9fa22af"
      },
      "execution_count": null,
      "outputs": [
        {
          "output_type": "stream",
          "name": "stdout",
          "text": [
            "eid:yash ename:20\n"
          ]
        }
      ]
    },
    {
      "cell_type": "code",
      "source": [
        "#keyword argument\n",
        "def employee(eid,ename):\n",
        "  print(f\"eid:{eid} ename:{ename}\")\n",
        "\n",
        "employee(eid=\"10\",ename=\"yash\")"
      ],
      "metadata": {
        "colab": {
          "base_uri": "https://localhost:8080/"
        },
        "id": "U0YOp-h09GWR",
        "outputId": "f4e7f5bd-23ac-4209-bc73-e74f75f6588d"
      },
      "execution_count": null,
      "outputs": [
        {
          "output_type": "stream",
          "name": "stdout",
          "text": [
            "eid:10 ename:yash\n"
          ]
        }
      ]
    },
    {
      "cell_type": "code",
      "source": [
        "#variable length argument=> used to run a program without giving values/argument or giving n number of values\n",
        "def employee( *detail):\n",
        "  print(detail)\n",
        "employee()"
      ],
      "metadata": {
        "colab": {
          "base_uri": "https://localhost:8080/"
        },
        "id": "KHSxZ4Wf9qYf",
        "outputId": "d25ba6e2-c8b2-4188-a46d-78bd8dc8a20b"
      },
      "execution_count": null,
      "outputs": [
        {
          "output_type": "stream",
          "name": "stdout",
          "text": [
            "()\n"
          ]
        }
      ]
    },
    {
      "cell_type": "code",
      "source": [
        "def employee( eid, *detail):\n",
        "  print(eid, detail)\n",
        "employee(10,20,30)\n",
        "employee()"
      ],
      "metadata": {
        "colab": {
          "base_uri": "https://localhost:8080/",
          "height": 193
        },
        "id": "4QGIl-93-NeR",
        "outputId": "0ae5dd9c-6a49-489b-bec2-8482164a3953"
      },
      "execution_count": null,
      "outputs": [
        {
          "output_type": "stream",
          "name": "stdout",
          "text": [
            "10 (20, 30)\n"
          ]
        },
        {
          "output_type": "error",
          "ename": "TypeError",
          "evalue": "employee() missing 1 required positional argument: 'eid'",
          "traceback": [
            "\u001b[0;31m---------------------------------------------------------------------------\u001b[0m",
            "\u001b[0;31mTypeError\u001b[0m                                 Traceback (most recent call last)",
            "\u001b[0;32m<ipython-input-41-3c899e7eb653>\u001b[0m in \u001b[0;36m<cell line: 4>\u001b[0;34m()\u001b[0m\n\u001b[1;32m      2\u001b[0m   \u001b[0mprint\u001b[0m\u001b[0;34m(\u001b[0m\u001b[0meid\u001b[0m\u001b[0;34m,\u001b[0m \u001b[0mdetail\u001b[0m\u001b[0;34m)\u001b[0m\u001b[0;34m\u001b[0m\u001b[0;34m\u001b[0m\u001b[0m\n\u001b[1;32m      3\u001b[0m \u001b[0memployee\u001b[0m\u001b[0;34m(\u001b[0m\u001b[0;36m10\u001b[0m\u001b[0;34m,\u001b[0m\u001b[0;36m20\u001b[0m\u001b[0;34m,\u001b[0m\u001b[0;36m30\u001b[0m\u001b[0;34m)\u001b[0m\u001b[0;34m\u001b[0m\u001b[0;34m\u001b[0m\u001b[0m\n\u001b[0;32m----> 4\u001b[0;31m \u001b[0memployee\u001b[0m\u001b[0;34m(\u001b[0m\u001b[0;34m)\u001b[0m\u001b[0;34m\u001b[0m\u001b[0;34m\u001b[0m\u001b[0m\n\u001b[0m",
            "\u001b[0;31mTypeError\u001b[0m: employee() missing 1 required positional argument: 'eid'"
          ]
        }
      ]
    },
    {
      "cell_type": "code",
      "source": [
        "#lambda fnction\n",
        "#announums function\n",
        "#synatx=> lambda parameter : expression\n",
        "#regex is used to store the lambda function\n",
        "regex = lambda x: x*x\n",
        "regex(4)"
      ],
      "metadata": {
        "colab": {
          "base_uri": "https://localhost:8080/"
        },
        "id": "At4Np6sq-qK7",
        "outputId": "d6a07216-af0e-4b77-be2a-d7e657f28edf"
      },
      "execution_count": null,
      "outputs": [
        {
          "output_type": "execute_result",
          "data": {
            "text/plain": [
              "16"
            ]
          },
          "metadata": {},
          "execution_count": 43
        }
      ]
    },
    {
      "cell_type": "code",
      "source": [
        "#map , filter\n",
        "def square(num):\n",
        "  return num**2\n",
        "\n",
        "square(9)"
      ],
      "metadata": {
        "colab": {
          "base_uri": "https://localhost:8080/"
        },
        "id": "syCxyocV_Wck",
        "outputId": "b18f0a04-4095-4361-f5ad-7d40a94ee45e"
      },
      "execution_count": null,
      "outputs": [
        {
          "output_type": "execute_result",
          "data": {
            "text/plain": [
              "81"
            ]
          },
          "metadata": {},
          "execution_count": 44
        }
      ]
    },
    {
      "cell_type": "code",
      "source": [
        "#map=> is used to provide function to all the elements\n",
        "def square(num):\n",
        "  return num**2\n",
        "mylist= [10,20,30,40]\n",
        "list(map(square,mylist))\n"
      ],
      "metadata": {
        "colab": {
          "base_uri": "https://localhost:8080/"
        },
        "id": "N1QsV--L__D6",
        "outputId": "5eb4001b-8043-4039-eacb-c5f5167bcd04"
      },
      "execution_count": null,
      "outputs": [
        {
          "output_type": "execute_result",
          "data": {
            "text/plain": [
              "[100, 400, 900, 1600]"
            ]
          },
          "metadata": {},
          "execution_count": 45
        }
      ]
    },
    {
      "cell_type": "code",
      "source": [
        "#we replaced the square with lambda to ease the syntax\n",
        "#lambda synatx=> lambda parameter : argumnet/expression/the task which need to be performed\n",
        "list(map(lambda num: num**2,mylist))"
      ],
      "metadata": {
        "colab": {
          "base_uri": "https://localhost:8080/"
        },
        "id": "ICbiBIuBBIem",
        "outputId": "5fc399b5-7b37-4fc0-d464-bf674c0b29dd"
      },
      "execution_count": null,
      "outputs": [
        {
          "output_type": "execute_result",
          "data": {
            "text/plain": [
              "[100, 400, 900, 1600]"
            ]
          },
          "metadata": {},
          "execution_count": 46
        }
      ]
    },
    {
      "cell_type": "code",
      "source": [
        "#Assignment\n",
        "#Q1:swap two number\n",
        "a=10\n",
        "b=5\n",
        "a,b=b,a\n",
        "print(\"a: \",a)\n",
        "print(\"b: \",b)"
      ],
      "metadata": {
        "colab": {
          "base_uri": "https://localhost:8080/"
        },
        "id": "3mJqP5zJBg0G",
        "outputId": "ebe3c538-acbc-423c-b77e-e33d619b747e"
      },
      "execution_count": null,
      "outputs": [
        {
          "output_type": "stream",
          "name": "stdout",
          "text": [
            "a:  5\n",
            "b:  10\n"
          ]
        }
      ]
    },
    {
      "cell_type": "code",
      "source": [
        "a=10\n",
        "b=20\n",
        "a=a+b\n",
        "b=a-b\n",
        "a=a-b\n",
        "print(\"a: \",a)\n",
        "print(\"b: \",b)"
      ],
      "metadata": {
        "colab": {
          "base_uri": "https://localhost:8080/"
        },
        "id": "iO5KYsYrEOtu",
        "outputId": "439b2eae-2409-4232-dd94-51d35b0b118b"
      },
      "execution_count": null,
      "outputs": [
        {
          "output_type": "stream",
          "name": "stdout",
          "text": [
            "a:  20\n",
            "b:  10\n"
          ]
        }
      ]
    },
    {
      "cell_type": "code",
      "source": [
        "#Q2 reverse\n",
        "def reverse_number(num):\n",
        "  reverse_digit=[]\n",
        "  while num>0:\n",
        "    digit= num%10\n",
        "    reverse_digit.append(digit)\n",
        "    num //=10\n",
        "  return reverse_digit\n",
        "\n",
        "number =274532\n",
        "result =reverse_number(number)\n",
        "print(result)\n"
      ],
      "metadata": {
        "colab": {
          "base_uri": "https://localhost:8080/"
        },
        "id": "hs35fBNOEeDY",
        "outputId": "babe2454-ec6c-4890-c033-29d9dbd9a3fb"
      },
      "execution_count": null,
      "outputs": [
        {
          "output_type": "stream",
          "name": "stdout",
          "text": [
            "[2, 3, 5, 4, 7, 2]\n"
          ]
        }
      ]
    },
    {
      "cell_type": "code",
      "source": [
        "a=12345\n",
        "stra= str(a)\n",
        "for i in reversed(stra):\n",
        "  print(i,end=\" \")"
      ],
      "metadata": {
        "colab": {
          "base_uri": "https://localhost:8080/"
        },
        "id": "KZT5PY6oHOnc",
        "outputId": "ced8469b-ea66-4376-e7f7-9971b72ddd74"
      },
      "execution_count": null,
      "outputs": [
        {
          "output_type": "stream",
          "name": "stdout",
          "text": [
            "5 4 3 2 1 "
          ]
        }
      ]
    },
    {
      "cell_type": "code",
      "source": [
        "\n",
        "def three_digit_number(num):\n",
        "  if 100<= num <=999:\n",
        "    hundreds= num//10\n",
        "    tens = (num%100)//10\n",
        "    ones= num % 10\n",
        "    digit_sum = hundreds + tens + ones\n",
        "\n",
        "    return digit_sum\n",
        "  else:\n",
        "    return (\"enter a three digit number\")\n",
        "number = int(input(\"enter the number: \"))\n",
        "result= three_digit_number(number)\n",
        "print(result)\n"
      ],
      "metadata": {
        "colab": {
          "base_uri": "https://localhost:8080/",
          "height": 228
        },
        "id": "lUrDokffIedm",
        "outputId": "2ee915e8-b450-4851-c4db-fcdec36f51a6"
      },
      "execution_count": null,
      "outputs": [
        {
          "name": "stdout",
          "output_type": "stream",
          "text": [
            "enter the number: a =1\n"
          ]
        },
        {
          "output_type": "error",
          "ename": "ValueError",
          "evalue": "invalid literal for int() with base 10: 'a =1'",
          "traceback": [
            "\u001b[0;31m---------------------------------------------------------------------------\u001b[0m",
            "\u001b[0;31mValueError\u001b[0m                                Traceback (most recent call last)",
            "\u001b[0;32m<ipython-input-89-c54afcb8ae1c>\u001b[0m in \u001b[0;36m<cell line: 11>\u001b[0;34m()\u001b[0m\n\u001b[1;32m      9\u001b[0m   \u001b[0;32melse\u001b[0m\u001b[0;34m:\u001b[0m\u001b[0;34m\u001b[0m\u001b[0;34m\u001b[0m\u001b[0m\n\u001b[1;32m     10\u001b[0m     \u001b[0;32mreturn\u001b[0m \u001b[0;34m(\u001b[0m\u001b[0;34m\"enter a three digit number\"\u001b[0m\u001b[0;34m)\u001b[0m\u001b[0;34m\u001b[0m\u001b[0;34m\u001b[0m\u001b[0m\n\u001b[0;32m---> 11\u001b[0;31m \u001b[0mnumber\u001b[0m \u001b[0;34m=\u001b[0m \u001b[0mint\u001b[0m\u001b[0;34m(\u001b[0m\u001b[0minput\u001b[0m\u001b[0;34m(\u001b[0m\u001b[0;34m\"enter the number: \"\u001b[0m\u001b[0;34m)\u001b[0m\u001b[0;34m)\u001b[0m\u001b[0;34m\u001b[0m\u001b[0;34m\u001b[0m\u001b[0m\n\u001b[0m\u001b[1;32m     12\u001b[0m \u001b[0mresult\u001b[0m\u001b[0;34m=\u001b[0m \u001b[0mthree_digit_number\u001b[0m\u001b[0;34m(\u001b[0m\u001b[0mnumber\u001b[0m\u001b[0;34m)\u001b[0m\u001b[0;34m\u001b[0m\u001b[0;34m\u001b[0m\u001b[0m\n\u001b[1;32m     13\u001b[0m \u001b[0mprint\u001b[0m\u001b[0;34m(\u001b[0m\u001b[0mresult\u001b[0m\u001b[0;34m)\u001b[0m\u001b[0;34m\u001b[0m\u001b[0;34m\u001b[0m\u001b[0m\n",
            "\u001b[0;31mValueError\u001b[0m: invalid literal for int() with base 10: 'a =1'"
          ]
        }
      ]
    },
    {
      "cell_type": "code",
      "source": [
        "#Q3:sum of three digits\n",
        "sum =0\n",
        "a = str(input('enter no.'))\n",
        "if (len(a)>3):\n",
        "  print(\"invalid\")\n",
        "else:\n",
        "  for i in a:\n",
        "    sum += int(i)\n",
        "  print(sum)"
      ],
      "metadata": {
        "colab": {
          "base_uri": "https://localhost:8080/"
        },
        "id": "axCYOp8KJYHU",
        "outputId": "485e934c-d055-41fe-d0e1-a4d766f53b84"
      },
      "execution_count": null,
      "outputs": [
        {
          "output_type": "stream",
          "name": "stdout",
          "text": [
            "enter no.585\n",
            "18\n"
          ]
        }
      ]
    },
    {
      "cell_type": "code",
      "source": [
        "#Q4:\n",
        "\n",
        "def main():\n",
        "  input_str = input(\"enter a three digit number: \")\n",
        "  if len(input_str)! = 3:\n",
        "    print(\"Enter a valid number\")\n",
        "  return\n",
        "\n",
        "digits= [int(char)for char in input_str]\n",
        "square_sum= sum(digits**2 for digits in digits)\n",
        "print(square_sum)"
      ],
      "metadata": {
        "colab": {
          "base_uri": "https://localhost:8080/",
          "height": 106
        },
        "id": "Mc8sMWLGOSmp",
        "outputId": "92439224-ebba-4b25-e0f9-3d28bb9cd362"
      },
      "execution_count": null,
      "outputs": [
        {
          "output_type": "error",
          "ename": "SyntaxError",
          "evalue": "invalid syntax (<ipython-input-111-8052d83f87ce>, line 5)",
          "traceback": [
            "\u001b[0;36m  File \u001b[0;32m\"<ipython-input-111-8052d83f87ce>\"\u001b[0;36m, line \u001b[0;32m5\u001b[0m\n\u001b[0;31m    if len(input_str)! = 3:\u001b[0m\n\u001b[0m                     ^\u001b[0m\n\u001b[0;31mSyntaxError\u001b[0m\u001b[0;31m:\u001b[0m invalid syntax\n"
          ]
        }
      ]
    },
    {
      "cell_type": "code",
      "source": [],
      "metadata": {
        "id": "v5mrmxLDRxXP"
      },
      "execution_count": null,
      "outputs": []
    }
  ]
}