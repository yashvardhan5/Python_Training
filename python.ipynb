{
  "nbformat": 4,
  "nbformat_minor": 0,
  "metadata": {
    "colab": {
      "provenance": [],
      "authorship_tag": "ABX9TyOqwa6CEECYz2Rh7VT6cawI",
      "include_colab_link": true
    },
    "kernelspec": {
      "name": "python3",
      "display_name": "Python 3"
    },
    "language_info": {
      "name": "python"
    }
  },
  "cells": [
    {
      "cell_type": "markdown",
      "metadata": {
        "id": "view-in-github",
        "colab_type": "text"
      },
      "source": [
        "<a href=\"https://colab.research.google.com/github/yashvardhan5/python-day1-2/blob/main/python.ipynb\" target=\"_parent\"><img src=\"https://colab.research.google.com/assets/colab-badge.svg\" alt=\"Open In Colab\"/></a>"
      ]
    },
    {
      "cell_type": "code",
      "execution_count": null,
      "metadata": {
        "colab": {
          "base_uri": "https://localhost:8080/"
        },
        "id": "RCJR6FTa2-LQ",
        "outputId": "5d95b8b2-0e72-484c-e386-f1b56baa14b0"
      },
      "outputs": [
        {
          "output_type": "stream",
          "name": "stdout",
          "text": [
            "hello world\n"
          ]
        }
      ],
      "source": [
        "print(\"hello world\")"
      ]
    },
    {
      "cell_type": "code",
      "source": [
        "print(\"hello world\",end=\"\\n\")\n",
        "print(\"hello tushar\")"
      ],
      "metadata": {
        "colab": {
          "base_uri": "https://localhost:8080/"
        },
        "id": "ch_y4ADA4sla",
        "outputId": "504a9a55-6848-4a72-e76f-3c9e255f2406"
      },
      "execution_count": null,
      "outputs": [
        {
          "output_type": "stream",
          "name": "stdout",
          "text": [
            "hello world\n",
            "hello tushar\n"
          ]
        }
      ]
    },
    {
      "cell_type": "code",
      "source": [
        "print(\"hello world\",end=\"$\")\n",
        "print(\"hello tushar\")"
      ],
      "metadata": {
        "colab": {
          "base_uri": "https://localhost:8080/"
        },
        "id": "rx7VlYks5PNe",
        "outputId": "e7563f1e-e573-41b3-c6f3-d95163b6c500"
      },
      "execution_count": null,
      "outputs": [
        {
          "output_type": "stream",
          "name": "stdout",
          "text": [
            "hello world$hello tushar\n"
          ]
        }
      ]
    },
    {
      "cell_type": "code",
      "source": [
        "print(\"hello world\",end=\"$\")\n",
        "print(\"hello tushar\")\n",
        "print(\"hello regex\")"
      ],
      "metadata": {
        "colab": {
          "base_uri": "https://localhost:8080/"
        },
        "id": "qZPg3LUH5dI_",
        "outputId": "9b0f27ac-7539-4d73-e7d1-76a6ef403406"
      },
      "execution_count": null,
      "outputs": [
        {
          "output_type": "stream",
          "name": "stdout",
          "text": [
            "hello world$hello tushar\n",
            "hello regex\n"
          ]
        }
      ]
    },
    {
      "cell_type": "code",
      "source": [
        " x=10\n",
        " print(type(x))"
      ],
      "metadata": {
        "colab": {
          "base_uri": "https://localhost:8080/"
        },
        "id": "VC64vQ8b5ouo",
        "outputId": "db7be534-8a35-4075-b9a3-763082b9c81f"
      },
      "execution_count": null,
      "outputs": [
        {
          "output_type": "stream",
          "name": "stdout",
          "text": [
            "<class 'int'>\n"
          ]
        }
      ]
    },
    {
      "cell_type": "code",
      "source": [
        "x=\"regex\"\n",
        "print(type(x))"
      ],
      "metadata": {
        "colab": {
          "base_uri": "https://localhost:8080/"
        },
        "id": "34YBcgkM6EwI",
        "outputId": "2ab95d48-8f42-4dd6-8bdb-b5f0794edaa6"
      },
      "execution_count": null,
      "outputs": [
        {
          "output_type": "stream",
          "name": "stdout",
          "text": [
            "<class 'str'>\n"
          ]
        }
      ]
    },
    {
      "cell_type": "code",
      "source": [
        "x='regex'\n",
        "print(type(x))"
      ],
      "metadata": {
        "colab": {
          "base_uri": "https://localhost:8080/"
        },
        "id": "N9MRJ5526aEd",
        "outputId": "72e7963c-9e9a-4c0c-c025-f24e29a4c70d"
      },
      "execution_count": null,
      "outputs": [
        {
          "output_type": "stream",
          "name": "stdout",
          "text": [
            "<class 'str'>\n"
          ]
        }
      ]
    },
    {
      "cell_type": "code",
      "source": [
        "address= \"\"\"b35\n",
        "basant nagar\n",
        "tonk road jaipur\"\"\""
      ],
      "metadata": {
        "id": "cffV96j96lvD"
      },
      "execution_count": null,
      "outputs": []
    },
    {
      "cell_type": "code",
      "source": [
        "address= '''b35\n",
        "basant nagar\n",
        "tonk road jaipur'''\n",
        "print(address)"
      ],
      "metadata": {
        "colab": {
          "base_uri": "https://localhost:8080/"
        },
        "id": "3gjRUdcv7DxX",
        "outputId": "c4f668fa-b8cc-4828-f979-f713fc99764f"
      },
      "execution_count": null,
      "outputs": [
        {
          "output_type": "stream",
          "name": "stdout",
          "text": [
            "b35\n",
            "basant nagar\n",
            "tonk road jaipur\n"
          ]
        }
      ]
    },
    {
      "cell_type": "code",
      "source": [
        "#string formatting\n",
        "year = 2024\n",
        "company =\"regex software\"\n",
        "print(\"hey year is\",year)\n"
      ],
      "metadata": {
        "colab": {
          "base_uri": "https://localhost:8080/"
        },
        "id": "3RwuCPdA7S62",
        "outputId": "ef13b347-0918-4845-c6b5-1dccfb59d9c1"
      },
      "execution_count": null,
      "outputs": [
        {
          "output_type": "stream",
          "name": "stdout",
          "text": [
            "hey year is 2024\n"
          ]
        }
      ]
    },
    {
      "cell_type": "code",
      "source": [
        "#string formatting\n",
        "year = 2024\n",
        "company =\"regex software\"\n",
        "print(\"hey year is\",year,\"company is \",company)\n"
      ],
      "metadata": {
        "colab": {
          "base_uri": "https://localhost:8080/"
        },
        "id": "99t8BGsw8S2t",
        "outputId": "1e38747e-2d74-4af3-8172-1cf15966fdf1"
      },
      "execution_count": null,
      "outputs": [
        {
          "output_type": "stream",
          "name": "stdout",
          "text": [
            "hey year is 2024 company is  regex software\n"
          ]
        }
      ]
    },
    {
      "cell_type": "code",
      "source": [
        "#string formatting\n",
        "year = 2024\n",
        "company =\"regex software\"\n",
        "print(f\"hey year is {year} company is {company}\")\n"
      ],
      "metadata": {
        "colab": {
          "base_uri": "https://localhost:8080/"
        },
        "id": "akGtSaun81Sv",
        "outputId": "672a789e-717d-4930-cb43-20fabf950eaa"
      },
      "execution_count": null,
      "outputs": [
        {
          "output_type": "stream",
          "name": "stdout",
          "text": [
            "hey year is 2024 company is regex software\n"
          ]
        }
      ]
    },
    {
      "cell_type": "code",
      "source": [
        "username='regex'\n",
        "msg=f\"hey user {username}\"\n",
        "\n",
        "print(msg)\n",
        "username=\"tushar\"\n",
        "print(msg)"
      ],
      "metadata": {
        "colab": {
          "base_uri": "https://localhost:8080/"
        },
        "id": "7YC5k1wn-dRb",
        "outputId": "6917c3d9-a8c5-4c64-be46-400c9b9fe588"
      },
      "execution_count": null,
      "outputs": [
        {
          "output_type": "stream",
          "name": "stdout",
          "text": [
            "hey user regex\n",
            "hey user regex\n"
          ]
        }
      ]
    },
    {
      "cell_type": "code",
      "source": [
        "state='rajasthan'\n",
        "state[0]"
      ],
      "metadata": {
        "colab": {
          "base_uri": "https://localhost:8080/",
          "height": 35
        },
        "id": "-IN1OQTu--Gr",
        "outputId": "f9e088e5-c172-4240-9e14-3aba8fc4b9d4"
      },
      "execution_count": null,
      "outputs": [
        {
          "output_type": "execute_result",
          "data": {
            "text/plain": [
              "'r'"
            ],
            "application/vnd.google.colaboratory.intrinsic+json": {
              "type": "string"
            }
          },
          "metadata": {},
          "execution_count": 23
        }
      ]
    },
    {
      "cell_type": "code",
      "source": [
        "state='rajasthan'\n",
        "state[-4]"
      ],
      "metadata": {
        "colab": {
          "base_uri": "https://localhost:8080/",
          "height": 35
        },
        "id": "OqfGzaKm_j3W",
        "outputId": "3d589399-c47f-433f-f538-6833aa636c9f"
      },
      "execution_count": null,
      "outputs": [
        {
          "output_type": "execute_result",
          "data": {
            "text/plain": [
              "'t'"
            ],
            "application/vnd.google.colaboratory.intrinsic+json": {
              "type": "string"
            }
          },
          "metadata": {},
          "execution_count": 25
        }
      ]
    },
    {
      "cell_type": "code",
      "source": [
        "state='rajasthan'\n",
        "state[0:4]"
      ],
      "metadata": {
        "colab": {
          "base_uri": "https://localhost:8080/",
          "height": 35
        },
        "id": "tl91BSkaAEjA",
        "outputId": "46fd9b7f-2011-4b97-d3de-7711202b280a"
      },
      "execution_count": null,
      "outputs": [
        {
          "output_type": "execute_result",
          "data": {
            "text/plain": [
              "'raja'"
            ],
            "application/vnd.google.colaboratory.intrinsic+json": {
              "type": "string"
            }
          },
          "metadata": {},
          "execution_count": 26
        }
      ]
    },
    {
      "cell_type": "code",
      "source": [
        "state='rajasthan'\n",
        "state[2:5]"
      ],
      "metadata": {
        "colab": {
          "base_uri": "https://localhost:8080/",
          "height": 35
        },
        "id": "nP2W4pWMAPAG",
        "outputId": "9909d25d-6e2c-4295-974d-206548b6e0ac"
      },
      "execution_count": null,
      "outputs": [
        {
          "output_type": "execute_result",
          "data": {
            "text/plain": [
              "'jas'"
            ],
            "application/vnd.google.colaboratory.intrinsic+json": {
              "type": "string"
            }
          },
          "metadata": {},
          "execution_count": 27
        }
      ]
    },
    {
      "cell_type": "code",
      "source": [
        "state='rajasthan'\n",
        "state[0:]"
      ],
      "metadata": {
        "colab": {
          "base_uri": "https://localhost:8080/",
          "height": 35
        },
        "id": "K-2UCoDBAa7p",
        "outputId": "c01f97bc-8216-4ae9-8e32-d2f4a7039288"
      },
      "execution_count": null,
      "outputs": [
        {
          "output_type": "execute_result",
          "data": {
            "text/plain": [
              "'rajasthan'"
            ],
            "application/vnd.google.colaboratory.intrinsic+json": {
              "type": "string"
            }
          },
          "metadata": {},
          "execution_count": 28
        }
      ]
    },
    {
      "cell_type": "code",
      "source": [
        "state='rajasthan'\n",
        "state[:4]"
      ],
      "metadata": {
        "colab": {
          "base_uri": "https://localhost:8080/",
          "height": 35
        },
        "id": "janDefXdA45N",
        "outputId": "16d6c68a-05c0-463f-d0b7-504fd6a0f180"
      },
      "execution_count": null,
      "outputs": [
        {
          "output_type": "execute_result",
          "data": {
            "text/plain": [
              "'raja'"
            ],
            "application/vnd.google.colaboratory.intrinsic+json": {
              "type": "string"
            }
          },
          "metadata": {},
          "execution_count": 29
        }
      ]
    },
    {
      "cell_type": "code",
      "source": [
        "state='rajasthan'\n",
        "state[1:6:2]\n",
        "#state[0:5]\n",
        "#state[0:5:1]"
      ],
      "metadata": {
        "colab": {
          "base_uri": "https://localhost:8080/",
          "height": 35
        },
        "id": "_-i1_T4cA_nQ",
        "outputId": "bc1a05a9-6b0c-46a4-e9db-71437ec93239"
      },
      "execution_count": null,
      "outputs": [
        {
          "output_type": "execute_result",
          "data": {
            "text/plain": [
              "'aat'"
            ],
            "application/vnd.google.colaboratory.intrinsic+json": {
              "type": "string"
            }
          },
          "metadata": {},
          "execution_count": 31
        }
      ]
    },
    {
      "cell_type": "code",
      "source": [
        "state='rajasthan'\n",
        "state[0:7:3]"
      ],
      "metadata": {
        "colab": {
          "base_uri": "https://localhost:8080/",
          "height": 35
        },
        "id": "i0dbIbclCE1v",
        "outputId": "e1640343-5a0c-4c96-8673-ff6cf4d097f9"
      },
      "execution_count": null,
      "outputs": [
        {
          "output_type": "execute_result",
          "data": {
            "text/plain": [
              "'rah'"
            ],
            "application/vnd.google.colaboratory.intrinsic+json": {
              "type": "string"
            }
          },
          "metadata": {},
          "execution_count": 32
        }
      ]
    },
    {
      "cell_type": "code",
      "source": [
        "state='rajasthan'\n",
        "state[2::2]"
      ],
      "metadata": {
        "colab": {
          "base_uri": "https://localhost:8080/",
          "height": 35
        },
        "id": "UZ5BnqM7CfeS",
        "outputId": "fbd5a971-d51b-4407-88e0-c90d52b4dd04"
      },
      "execution_count": null,
      "outputs": [
        {
          "output_type": "execute_result",
          "data": {
            "text/plain": [
              "'jshn'"
            ],
            "application/vnd.google.colaboratory.intrinsic+json": {
              "type": "string"
            }
          },
          "metadata": {},
          "execution_count": 33
        }
      ]
    },
    {
      "cell_type": "code",
      "source": [
        "state='rajasthan'\n",
        "state[0:4:-1]"
      ],
      "metadata": {
        "colab": {
          "base_uri": "https://localhost:8080/",
          "height": 35
        },
        "id": "CQBhHMvPCo3O",
        "outputId": "76ae7bc5-5a41-4e35-fb7e-c2c97106cfec"
      },
      "execution_count": null,
      "outputs": [
        {
          "output_type": "execute_result",
          "data": {
            "text/plain": [
              "''"
            ],
            "application/vnd.google.colaboratory.intrinsic+json": {
              "type": "string"
            }
          },
          "metadata": {},
          "execution_count": 34
        }
      ]
    },
    {
      "cell_type": "code",
      "source": [
        "state='rajasthan'\n",
        "state[-1:-4:-1]"
      ],
      "metadata": {
        "colab": {
          "base_uri": "https://localhost:8080/",
          "height": 35
        },
        "id": "Ab4MiqnYDQDL",
        "outputId": "31273e53-e5c2-47c2-b312-f783e7f31edc"
      },
      "execution_count": null,
      "outputs": [
        {
          "output_type": "execute_result",
          "data": {
            "text/plain": [
              "'nah'"
            ],
            "application/vnd.google.colaboratory.intrinsic+json": {
              "type": "string"
            }
          },
          "metadata": {},
          "execution_count": 37
        }
      ]
    },
    {
      "cell_type": "code",
      "source": [
        "#operator\n",
        "#symbols => performs task(operation)\n",
        "1+2"
      ],
      "metadata": {
        "id": "1f_naf5RDkBf",
        "colab": {
          "base_uri": "https://localhost:8080/"
        },
        "outputId": "f6d388fd-50d3-46f1-acdf-00f275b5f674"
      },
      "execution_count": null,
      "outputs": [
        {
          "output_type": "execute_result",
          "data": {
            "text/plain": [
              "3"
            ]
          },
          "metadata": {},
          "execution_count": 1
        }
      ]
    },
    {
      "cell_type": "code",
      "source": [
        "#Arthimetic Operator\n",
        "#+ - *\n",
        "20/3"
      ],
      "metadata": {
        "colab": {
          "base_uri": "https://localhost:8080/"
        },
        "id": "h-Rdd4No_k_B",
        "outputId": "2e3ef9f7-7ae1-49d4-c24f-8ce2d181d5ed"
      },
      "execution_count": null,
      "outputs": [
        {
          "output_type": "execute_result",
          "data": {
            "text/plain": [
              "6.666666666666667"
            ]
          },
          "metadata": {},
          "execution_count": 2
        }
      ]
    },
    {
      "cell_type": "code",
      "source": [
        "20//3 #floor division"
      ],
      "metadata": {
        "colab": {
          "base_uri": "https://localhost:8080/"
        },
        "id": "z95MudwE_36v",
        "outputId": "c3a07d8b-cb9f-410c-f481-83a7511f9f00"
      },
      "execution_count": null,
      "outputs": [
        {
          "output_type": "execute_result",
          "data": {
            "text/plain": [
              "6"
            ]
          },
          "metadata": {},
          "execution_count": 3
        }
      ]
    },
    {
      "cell_type": "code",
      "source": [
        "20%3 #gives remender"
      ],
      "metadata": {
        "colab": {
          "base_uri": "https://localhost:8080/"
        },
        "id": "HTd0ogheAEgY",
        "outputId": "69f41ffd-f28b-4a35-91f3-2c9cbb7ca457"
      },
      "execution_count": null,
      "outputs": [
        {
          "output_type": "execute_result",
          "data": {
            "text/plain": [
              "2"
            ]
          },
          "metadata": {},
          "execution_count": 4
        }
      ]
    },
    {
      "cell_type": "code",
      "source": [
        "10+2-24/2*6"
      ],
      "metadata": {
        "colab": {
          "base_uri": "https://localhost:8080/"
        },
        "id": "N02BmuotAR2v",
        "outputId": "ecdc2759-8fca-43a2-e1e3-4af696c6600e"
      },
      "execution_count": null,
      "outputs": [
        {
          "output_type": "execute_result",
          "data": {
            "text/plain": [
              "-60.0"
            ]
          },
          "metadata": {},
          "execution_count": 5
        }
      ]
    },
    {
      "cell_type": "code",
      "source": [
        "2 ** 3 #power"
      ],
      "metadata": {
        "colab": {
          "base_uri": "https://localhost:8080/"
        },
        "id": "KP1IJ91GAeKf",
        "outputId": "eb0b7e30-ae2a-4322-def4-02ffb3819bd5"
      },
      "execution_count": null,
      "outputs": [
        {
          "output_type": "execute_result",
          "data": {
            "text/plain": [
              "8"
            ]
          },
          "metadata": {},
          "execution_count": 6
        }
      ]
    },
    {
      "cell_type": "code",
      "source": [
        "2 ** 3\n",
        "#2*2*2\n",
        "# **\n",
        "#* / // %\n",
        "# + -"
      ],
      "metadata": {
        "id": "V2M0jEyoAkYx"
      },
      "execution_count": null,
      "outputs": []
    },
    {
      "cell_type": "code",
      "source": [
        "#comparsion operator\n",
        "10>5\n",
        "# ==, >, < , >=, <=, !=\n",
        "10==210"
      ],
      "metadata": {
        "colab": {
          "base_uri": "https://localhost:8080/"
        },
        "id": "jbbFRvdzA5Rh",
        "outputId": "e045b147-3098-4ae4-fd77-3c437e760b7a"
      },
      "execution_count": null,
      "outputs": [
        {
          "output_type": "execute_result",
          "data": {
            "text/plain": [
              "False"
            ]
          },
          "metadata": {},
          "execution_count": 7
        }
      ]
    },
    {
      "cell_type": "code",
      "source": [
        "#Assignment Operator\n",
        "x=10\n",
        "x = x+5 #x +=5 same thing\n",
        "print(x)"
      ],
      "metadata": {
        "colab": {
          "base_uri": "https://localhost:8080/"
        },
        "id": "8ZFLefUtBHgf",
        "outputId": "068635fe-3082-4bac-a407-b7629fbef7e5"
      },
      "execution_count": null,
      "outputs": [
        {
          "output_type": "stream",
          "name": "stdout",
          "text": [
            "15\n"
          ]
        }
      ]
    },
    {
      "cell_type": "code",
      "source": [
        "age=4\n",
        "age /=1\n",
        "print(age)"
      ],
      "metadata": {
        "colab": {
          "base_uri": "https://localhost:8080/"
        },
        "id": "s9V4nHARBpTy",
        "outputId": "fb8ff001-1351-4852-d7dd-ef680e0287e1"
      },
      "execution_count": null,
      "outputs": [
        {
          "output_type": "stream",
          "name": "stdout",
          "text": [
            "4.0\n"
          ]
        }
      ]
    },
    {
      "cell_type": "code",
      "source": [
        "#Logical Operators\n",
        "#and or not\n",
        "x=10\n",
        "x>5 and x>15"
      ],
      "metadata": {
        "colab": {
          "base_uri": "https://localhost:8080/"
        },
        "id": "Rnj6zA-dB1I_",
        "outputId": "52d1763c-e058-4bbf-ce77-4ca36a7735a7"
      },
      "execution_count": null,
      "outputs": [
        {
          "output_type": "execute_result",
          "data": {
            "text/plain": [
              "False"
            ]
          },
          "metadata": {},
          "execution_count": 16
        }
      ]
    },
    {
      "cell_type": "code",
      "source": [
        "x=10\n",
        "x>5 or x>15"
      ],
      "metadata": {
        "colab": {
          "base_uri": "https://localhost:8080/"
        },
        "id": "SJXkOH3_CZQa",
        "outputId": "54eec998-d27b-4b1a-e6ce-4ea9ef133490"
      },
      "execution_count": null,
      "outputs": [
        {
          "output_type": "execute_result",
          "data": {
            "text/plain": [
              "True"
            ]
          },
          "metadata": {},
          "execution_count": 15
        }
      ]
    },
    {
      "cell_type": "code",
      "source": [
        "# Membership Operator\n",
        "#to check wheteher it is in data or not\n",
        "\"J\" in \"JAIPUR\""
      ],
      "metadata": {
        "colab": {
          "base_uri": "https://localhost:8080/"
        },
        "id": "__NtHYaEClB-",
        "outputId": "c874fecd-3a76-42c8-f26b-297a8db2556f"
      },
      "execution_count": null,
      "outputs": [
        {
          "output_type": "execute_result",
          "data": {
            "text/plain": [
              "True"
            ]
          },
          "metadata": {},
          "execution_count": 17
        }
      ]
    },
    {
      "cell_type": "code",
      "source": [
        "\"IR\"  in \"JAIPUR\""
      ],
      "metadata": {
        "colab": {
          "base_uri": "https://localhost:8080/"
        },
        "id": "KM07tJZnDP_n",
        "outputId": "e5c9f75c-e341-4198-c567-c96d4e11317f"
      },
      "execution_count": null,
      "outputs": [
        {
          "output_type": "execute_result",
          "data": {
            "text/plain": [
              "False"
            ]
          },
          "metadata": {},
          "execution_count": 19
        }
      ]
    },
    {
      "cell_type": "code",
      "source": [
        "\"IR\" not in \"JAIPUR\""
      ],
      "metadata": {
        "colab": {
          "base_uri": "https://localhost:8080/"
        },
        "id": "U2-b6T17DEN7",
        "outputId": "dc045ed4-003a-43f2-bff9-89460659df2a"
      },
      "execution_count": null,
      "outputs": [
        {
          "output_type": "execute_result",
          "data": {
            "text/plain": [
              "True"
            ]
          },
          "metadata": {},
          "execution_count": 18
        }
      ]
    },
    {
      "cell_type": "code",
      "source": [
        "#identity Operator\n",
        "#object belongs to any class or variable belong to any data type we use i.o\n",
        "x=10\n",
        "type(x) is int"
      ],
      "metadata": {
        "colab": {
          "base_uri": "https://localhost:8080/"
        },
        "id": "MOGmiqTRDcQc",
        "outputId": "d0ee9921-5852-4141-d805-587e4d60f17e"
      },
      "execution_count": null,
      "outputs": [
        {
          "output_type": "execute_result",
          "data": {
            "text/plain": [
              "True"
            ]
          },
          "metadata": {},
          "execution_count": 20
        }
      ]
    },
    {
      "cell_type": "code",
      "source": [
        "type(x) is str"
      ],
      "metadata": {
        "colab": {
          "base_uri": "https://localhost:8080/"
        },
        "id": "nmcGdfSpDxV2",
        "outputId": "de178dec-c53a-495b-f8a5-18c81b801529"
      },
      "execution_count": null,
      "outputs": [
        {
          "output_type": "execute_result",
          "data": {
            "text/plain": [
              "False"
            ]
          },
          "metadata": {},
          "execution_count": 22
        }
      ]
    },
    {
      "cell_type": "code",
      "source": [
        "type(x) is not str"
      ],
      "metadata": {
        "colab": {
          "base_uri": "https://localhost:8080/"
        },
        "id": "pCYgQjVaD5hw",
        "outputId": "d708bdbe-44ed-4052-a629-0b068a63c2f2"
      },
      "execution_count": null,
      "outputs": [
        {
          "output_type": "execute_result",
          "data": {
            "text/plain": [
              "True"
            ]
          },
          "metadata": {},
          "execution_count": 23
        }
      ]
    },
    {
      "cell_type": "code",
      "source": [
        "#conditional Statement\n",
        "#if statement\n",
        "print(\"hello\")\n"
      ],
      "metadata": {
        "colab": {
          "base_uri": "https://localhost:8080/"
        },
        "id": "7Tm2ydcPEDdR",
        "outputId": "aff72d2a-62d7-4467-e088-20af91c9505b"
      },
      "execution_count": null,
      "outputs": [
        {
          "output_type": "stream",
          "name": "stdout",
          "text": [
            "hello\n"
          ]
        }
      ]
    },
    {
      "cell_type": "code",
      "source": [
        "x=10\n",
        "if(x>5):\n",
        "  print(\"hello\")"
      ],
      "metadata": {
        "colab": {
          "base_uri": "https://localhost:8080/"
        },
        "id": "YK8a-EuAFWmJ",
        "outputId": "c6b3cf1d-a272-4e3c-a118-eb10e70d379a"
      },
      "execution_count": null,
      "outputs": [
        {
          "output_type": "stream",
          "name": "stdout",
          "text": [
            "hello\n"
          ]
        }
      ]
    },
    {
      "cell_type": "code",
      "source": [
        "x=2\n",
        "if(x>5):\n",
        "  print(\"hello\")\n",
        "else:\n",
        "  print(\"hi\")"
      ],
      "metadata": {
        "colab": {
          "base_uri": "https://localhost:8080/"
        },
        "id": "hq7pt3tRFyqN",
        "outputId": "f425e1ae-8076-4b42-fac0-8728f3083f34"
      },
      "execution_count": null,
      "outputs": [
        {
          "output_type": "stream",
          "name": "stdout",
          "text": [
            "hi\n"
          ]
        }
      ]
    },
    {
      "cell_type": "code",
      "source": [
        "#Write a program to check whether a variable value is divisible by 5 or not.\n",
        "x=15\n",
        "if(x%5 == 0):\n",
        "  print(\"is divisible\")\n",
        "else:\n",
        "  print(\"not divisible\")"
      ],
      "metadata": {
        "colab": {
          "base_uri": "https://localhost:8080/"
        },
        "id": "-OCyJ339GLaF",
        "outputId": "f6e9977c-5939-4a0b-b249-6f6e1c03075b"
      },
      "execution_count": null,
      "outputs": [
        {
          "output_type": "stream",
          "name": "stdout",
          "text": [
            "isdivisible\n"
          ]
        }
      ]
    },
    {
      "cell_type": "code",
      "source": [
        "x=int(input(\"enter number: \"))\n",
        "if(x%5 == 0):\n",
        "  print(\"is divisible\")\n",
        "else:\n",
        "  print(\"not divisible\")"
      ],
      "metadata": {
        "colab": {
          "base_uri": "https://localhost:8080/"
        },
        "id": "kTkx_EMVG4OA",
        "outputId": "cdaeb7c1-eb7a-4d03-ed20-5a8bc07a3fd6"
      },
      "execution_count": null,
      "outputs": [
        {
          "output_type": "stream",
          "name": "stdout",
          "text": [
            "enter number10\n",
            "is divisible\n"
          ]
        }
      ]
    },
    {
      "cell_type": "code",
      "source": [
        "#Write a program in which the variable is divisible by 2 and 3\n",
        "x=int(input(\"enter number: \"))\n",
        "if(x%2 == 0 and x%3 ==0):\n",
        "  print(\"is divisible\")\n",
        "else:\n",
        "  print(\"not divisible\")"
      ],
      "metadata": {
        "colab": {
          "base_uri": "https://localhost:8080/"
        },
        "id": "TmpZODWSHHc5",
        "outputId": "1fb2f66d-fe71-4d97-81f9-dc27f627d68f"
      },
      "execution_count": null,
      "outputs": [
        {
          "output_type": "stream",
          "name": "stdout",
          "text": [
            "enter number: 12\n",
            "is divisible\n"
          ]
        }
      ]
    },
    {
      "cell_type": "code",
      "source": [
        "x=int(input(\"enter number: \"))\n",
        "if(x == 10):\n",
        "  print(\"value is 10\")\n",
        "elif(x==15):\n",
        "  print(\"value is 15\")\n",
        "else:\n",
        "  print(\"hey\")"
      ],
      "metadata": {
        "colab": {
          "base_uri": "https://localhost:8080/"
        },
        "id": "jXi8r5plIJjG",
        "outputId": "9022f50c-9c4d-4ddf-d23b-cae155552498"
      },
      "execution_count": null,
      "outputs": [
        {
          "output_type": "stream",
          "name": "stdout",
          "text": [
            "enter number: 15\n",
            "value is 15\n"
          ]
        }
      ]
    },
    {
      "cell_type": "code",
      "source": [
        "#write a program to print 3 variable and find the minimum number\n",
        "a=10\n",
        "b=2\n",
        "c=3\n",
        "if(a < b and a < c):\n",
        "  print(\"a is minimum\")\n",
        "elif(b < a and b < c):\n",
        "  print(\"b is minimum\")\n",
        "else:\n",
        "  print(\"c is minimum\")"
      ],
      "metadata": {
        "colab": {
          "base_uri": "https://localhost:8080/"
        },
        "id": "C2hP2FbAJ-k7",
        "outputId": "a2456b86-864f-4c60-913d-84f2198ce9f9"
      },
      "execution_count": null,
      "outputs": [
        {
          "output_type": "stream",
          "name": "stdout",
          "text": [
            "b is minimum\n"
          ]
        }
      ]
    },
    {
      "cell_type": "code",
      "source": [
        "#5 => aadhar\n",
        "#18 => voter id\n",
        "age = 5\n",
        "if(age >= 5):\n",
        "  print(\"Adhar card\")\n",
        "  if(age >= 18):\n",
        "    print(\"voting can be done\")\n",
        "  else:\n",
        "    print(\"no voting\")\n",
        "else:\n",
        "  print(\"no adhar\")"
      ],
      "metadata": {
        "colab": {
          "base_uri": "https://localhost:8080/"
        },
        "id": "NvJpbUb0Les2",
        "outputId": "f1aca10a-7561-443d-826a-2ec4b492a33c"
      },
      "execution_count": null,
      "outputs": [
        {
          "output_type": "stream",
          "name": "stdout",
          "text": [
            "Adhar card\n",
            "no voting\n"
          ]
        }
      ]
    },
    {
      "cell_type": "code",
      "source": [
        "#days\n",
        "x=int(input(\"enter a number\"))\n",
        "if(x==1):\n",
        "  print(\"Monday\")\n",
        "elif(x==2):\n",
        "  print(\"Tuesday\")\n",
        "elif(x==3):\n",
        "  print(\"Wednesday\")\n",
        "elif(x==4):\n",
        "  print(\"Thrusday\")\n",
        "elif(x==5):\n",
        "  print(\"Friday\")\n",
        "elif(x==6):\n",
        "  print(\"Saturday\")\n",
        "elif(x==7):\n",
        "  print(\"Sunday\")\n",
        "else:\n",
        "  print(\"Enter valid input\")"
      ],
      "metadata": {
        "colab": {
          "base_uri": "https://localhost:8080/"
        },
        "id": "r2IH3dq_OnSI",
        "outputId": "9eb95a06-234c-4ccd-a013-cbb82d321a8f"
      },
      "execution_count": null,
      "outputs": [
        {
          "output_type": "stream",
          "name": "stdout",
          "text": [
            "enter a number4\n",
            "Thrusday\n"
          ]
        }
      ]
    },
    {
      "cell_type": "code",
      "source": [
        "#Age\n",
        "x=int(input(\"Enter Age: \"))\n",
        "if(x>=18 and x<25):\n",
        "  print(\"Young\")\n",
        "elif(x>=25 and x<35):\n",
        "  print(\"Adult\")\n",
        "elif(x>=35 and x<50):\n",
        "  print(\"Senior\")\n",
        "elif(x>50):\n",
        "  print(\"Senior citizen\")\n",
        "else:\n",
        "  print(\"child\")"
      ],
      "metadata": {
        "colab": {
          "base_uri": "https://localhost:8080/"
        },
        "id": "NQAh793AP0pC",
        "outputId": "311fc5bf-9820-4ed8-edc4-cef6cb1ee7a3"
      },
      "execution_count": null,
      "outputs": [
        {
          "output_type": "stream",
          "name": "stdout",
          "text": [
            "Enter Age: 28\n",
            "Adult\n"
          ]
        }
      ]
    },
    {
      "cell_type": "code",
      "source": [
        "#amount\n",
        "quantity= int(input())\n",
        "total_cost = calculate_total_cost(quantity)\n",
        "def calculate_total_cost(quantity):\n",
        "    if quantity <= 10:\n",
        "        total_cost = quantity * 50\n",
        "    elif quantity <= 30:\n",
        "        total_cost = 10 * 50 + (quantity - 10) * 30\n",
        "    else:\n",
        "        total_cost = 10 * 50 + 20 * 30 + (quantity - 30) * 10\n",
        "\n",
        "    return total_cost\n",
        "\n",
        "print(f\"Total cost for buying {quantity} items is {total_cost} rupees.\")\n"
      ],
      "metadata": {
        "colab": {
          "base_uri": "https://localhost:8080/"
        },
        "id": "kzvhCKb0SWZ_",
        "outputId": "6918867d-d61e-4674-92a4-07a52f99e798"
      },
      "execution_count": null,
      "outputs": [
        {
          "output_type": "stream",
          "name": "stdout",
          "text": [
            "11\n",
            "Total cost for buying 11 items is 530 rupees.\n"
          ]
        }
      ]
    },
    {
      "cell_type": "code",
      "source": [
        "#automatic operation taking place\n"
      ],
      "metadata": {
        "id": "iQVduFL9U33s"
      },
      "execution_count": null,
      "outputs": []
    }
  ]
}