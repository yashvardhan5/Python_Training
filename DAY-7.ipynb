{
 "cells": [
  {
   "cell_type": "code",
   "execution_count": 1,
   "id": "c8cc8d15-a77d-477f-9c18-17ad2767c9a3",
   "metadata": {},
   "outputs": [
    {
     "name": "stdout",
     "output_type": "stream",
     "text": [
      "McieLann\n"
     ]
    }
   ],
   "source": [
    "\n",
    "\n",
    "text = \"Machine Learning\"\n",
    "slice_text = text[::2]\n",
    "print(slice_text)"
   ]
  },
  {
   "cell_type": "code",
   "execution_count": 2,
   "id": "026bc5f8-d2de-4884-81a5-1fc678c29bcf",
   "metadata": {},
   "outputs": [
    {
     "name": "stdout",
     "output_type": "stream",
     "text": [
      "5\n"
     ]
    }
   ],
   "source": [
    "a = 12\n",
    "b = 7\n",
    "if a % 3 == 0:\n",
    "    if b % 2 == 0:\n",
    "        c = a // b\n",
    "    else:\n",
    "        c = a % b\n",
    "else:\n",
    "    c = b % a\n",
    "\n",
    "print(c)\n"
   ]
  },
  {
   "cell_type": "code",
   "execution_count": 3,
   "id": "ff9743dc-b5ad-46e8-b55d-b9c280295f8b",
   "metadata": {},
   "outputs": [
    {
     "name": "stdout",
     "output_type": "stream",
     "text": [
      "Science\n"
     ]
    }
   ],
   "source": [
    "text = \"Data Science\"\n",
    "slice_text = text[-7:]\n",
    "print(slice_text)"
   ]
  },
  {
   "cell_type": "code",
   "execution_count": 4,
   "id": "fe6ea6c1-3b10-46ff-ad11-5e5f33617ef6",
   "metadata": {},
   "outputs": [
    {
     "name": "stdout",
     "output_type": "stream",
     "text": [
      "HelloHelloHello!\n"
     ]
    }
   ],
   "source": [
    "print(3 * 'Hello' + '!')\n",
    "\n",
    "\n"
   ]
  },
  {
   "cell_type": "code",
   "execution_count": 5,
   "id": "ad472f24-fb0a-4ac6-97c7-0a0454ba7c2d",
   "metadata": {},
   "outputs": [
    {
     "ename": "SyntaxError",
     "evalue": "unterminated string literal (detected at line 1) (2865298113.py, line 1)",
     "output_type": "error",
     "traceback": [
      "\u001b[1;36m  Cell \u001b[1;32mIn[5], line 1\u001b[1;36m\u001b[0m\n\u001b[1;33m    x = \"Hello, World!'\u001b[0m\n\u001b[1;37m        ^\u001b[0m\n\u001b[1;31mSyntaxError\u001b[0m\u001b[1;31m:\u001b[0m unterminated string literal (detected at line 1)\n"
     ]
    }
   ],
   "source": [
    "x = \"Hello, World!'\n",
    "result = (\"H\" in x)\n",
    "print(result)\n"
   ]
  },
  {
   "cell_type": "code",
   "execution_count": 6,
   "id": "620e94da-6da0-457f-8795-d3aa90e51391",
   "metadata": {},
   "outputs": [
    {
     "name": "stdout",
     "output_type": "stream",
     "text": [
      "error handled\n"
     ]
    }
   ],
   "source": [
    "#exception handling\n",
    "#try block\n",
    "#catch block/ except block\n",
    "try:  #it is used where there is possiblity of error\n",
    "    x=10\n",
    "    x+z\n",
    "    print(\"hey1\")\n",
    "except: #it is used to handle error\n",
    "    print(\"error handled\")"
   ]
  },
  {
   "cell_type": "code",
   "execution_count": 7,
   "id": "4fd86007-0ebb-4c2a-9ba1-fe043a6dc747",
   "metadata": {},
   "outputs": [
    {
     "name": "stdout",
     "output_type": "stream",
     "text": [
      "hey1\n"
     ]
    }
   ],
   "source": [
    "try:  #it is used where there is possiblity of error\n",
    "    x=10\n",
    "    x+10\n",
    "    print(\"hey1\")\n",
    "except: #it is used to handle error\n",
    "    print(\"error handled\")"
   ]
  },
  {
   "cell_type": "code",
   "execution_count": null,
   "id": "1a8e1fd0-d63e-4cc8-87fd-8bf38766fe11",
   "metadata": {},
   "outputs": [],
   "source": [
    "#defined exception:=>\n",
    "#arthmetic error\n",
    "#name error\n",
    "#IO error\n",
    "#Indentation error\n",
    "#value error\n"
   ]
  },
  {
   "cell_type": "code",
   "execution_count": 8,
   "id": "c9f1e1a9-0d0b-4cbe-bfb6-1e8007c400c5",
   "metadata": {},
   "outputs": [
    {
     "name": "stdout",
     "output_type": "stream",
     "text": [
      "error handled\n"
     ]
    }
   ],
   "source": [
    "try:  \n",
    "    x=10\n",
    "    x+z\n",
    "    print(\"hey1\")\n",
    "except NameError: # here name error eill noly run except\n",
    "    print(\"error handled\")"
   ]
  },
  {
   "cell_type": "code",
   "execution_count": 9,
   "id": "7ef49947-2b84-441e-b68d-53310ff1d21c",
   "metadata": {},
   "outputs": [
    {
     "name": "stdout",
     "output_type": "stream",
     "text": [
      "error handled as zero\n"
     ]
    }
   ],
   "source": [
    "#we can have more than one except block of code\n",
    "try:  \n",
    "    x=10\n",
    "    x/0\n",
    "    print(\"hey1\")\n",
    "except NameError: \n",
    "    print(\"error handled\")\n",
    "except ZeroDivisionError:\n",
    "    print(\"error handled as zero\")"
   ]
  },
  {
   "cell_type": "code",
   "execution_count": 11,
   "id": "e83fe2af-0418-4783-af17-3e690be3abbd",
   "metadata": {},
   "outputs": [
    {
     "name": "stdout",
     "output_type": "stream",
     "text": [
      "error handled\n"
     ]
    }
   ],
   "source": [
    "#more than one error can be handled together\n",
    "try:  \n",
    "    x=10\n",
    "    x/0\n",
    "    print(\"hey1\")\n",
    "except (NameError,ZeroDivisionError):\n",
    "    print(\"error handled\")"
   ]
  },
  {
   "cell_type": "code",
   "execution_count": 16,
   "id": "2348ebbf-4fdf-4fea-92ea-4d809f5b307e",
   "metadata": {},
   "outputs": [
    {
     "name": "stdout",
     "output_type": "stream",
     "text": [
      "hey1\n"
     ]
    }
   ],
   "source": [
    "#synatx error can not be handled\n",
    "try:  \n",
    "    x=10\n",
    "    x\n",
    "    print(\"hey1\")\n",
    "except (NameError,ZeroDivisionError):\n",
    "    print(\"error handled\")\n",
    "except Exception: #all other errors come in exception\n",
    "    print(\"all other error\")"
   ]
  },
  {
   "cell_type": "code",
   "execution_count": 17,
   "id": "2ec27c1f-1232-4e5c-80e0-1d14fc432e81",
   "metadata": {},
   "outputs": [
    {
     "name": "stdout",
     "output_type": "stream",
     "text": [
      "Error for dividing by zero\n",
      "hey\n"
     ]
    }
   ],
   "source": [
    "#Nested try-except\n",
    "try:  \n",
    "    x=10\n",
    "    try:\n",
    "        x/0\n",
    "    except:    \n",
    "        print(\"Error for dividing by zero\")\n",
    "    print(\"hey\")    \n",
    "except (NameError,ZeroDivisionError):\n",
    "    print(\"error handled\")"
   ]
  },
  {
   "cell_type": "code",
   "execution_count": 18,
   "id": "4415dace-8e89-4258-9a54-0d4262420fd9",
   "metadata": {},
   "outputs": [
    {
     "name": "stdout",
     "output_type": "stream",
     "text": [
      "error handled\n"
     ]
    }
   ],
   "source": [
    "try:  \n",
    "    x=10\n",
    "    x+y \n",
    "    try:\n",
    "        x/0\n",
    "    except:    \n",
    "        print(\"Error for dividing by zero\")\n",
    "    print(\"hey\")    \n",
    "except (NameError,ZeroDivisionError):\n",
    "    print(\"error handled\")\n",
    "#here first the first block wil be checked then the next block"
   ]
  },
  {
   "cell_type": "code",
   "execution_count": 19,
   "id": "73fa47a7-4735-4c5d-8e79-cd63d91a3753",
   "metadata": {},
   "outputs": [
    {
     "name": "stdout",
     "output_type": "stream",
     "text": [
      "error handled division by zero\n"
     ]
    }
   ],
   "source": [
    "#as nickname is used to tell the error\n",
    "try:  \n",
    "    x=10\n",
    "    x/0\n",
    "    print(\"hey1\")\n",
    "except (NameError,ZeroDivisionError) as ex:\n",
    "    print(\"error handled\",ex)"
   ]
  },
  {
   "cell_type": "code",
   "execution_count": 21,
   "id": "024196f7-d8d8-4ccd-abd6-b6947da9d0f3",
   "metadata": {},
   "outputs": [
    {
     "name": "stdout",
     "output_type": "stream",
     "text": [
      "error handled division by zero\n"
     ]
    }
   ],
   "source": [
    "try:  \n",
    "    x=10\n",
    "    x/0\n",
    "    print(\"hey1\")\n",
    "except (NameError,ZeroDivisionError) as ex:\n",
    "    print(\"error handled\",ex)\n",
    "else:\n",
    "    print(\"Else block is executed\")"
   ]
  },
  {
   "cell_type": "code",
   "execution_count": 22,
   "id": "758edd5a-1e19-4fa8-aa79-6605ed639618",
   "metadata": {},
   "outputs": [
    {
     "name": "stdout",
     "output_type": "stream",
     "text": [
      "hey1\n",
      "Else block is executed\n"
     ]
    }
   ],
   "source": [
    "#if no error in block then else block will run\n",
    "try:  \n",
    "    x=10\n",
    "    x/10\n",
    "    print(\"hey1\")\n",
    "except (NameError,ZeroDivisionError) as ex:\n",
    "    print(\"error handled\",ex)\n",
    "else:\n",
    "    print(\"Else block is executed\")"
   ]
  },
  {
   "cell_type": "code",
   "execution_count": 24,
   "id": "cdc8aa8b-7fb5-4057-8c52-429ae99f10e3",
   "metadata": {},
   "outputs": [
    {
     "name": "stdout",
     "output_type": "stream",
     "text": [
      "error handled division by zero\n",
      "Finally block is executed\n"
     ]
    }
   ],
   "source": [
    "#finally is a block which will always run whether the condition is right or wrong\n",
    "try:  \n",
    "    x=10\n",
    "    x/0\n",
    "    print(\"hey1\")\n",
    "except (NameError,ZeroDivisionError) as ex:\n",
    "    print(\"error handled\",ex)\n",
    "finally:\n",
    "    print(\"Finally block is executed\")"
   ]
  },
  {
   "cell_type": "code",
   "execution_count": 28,
   "id": "c3b5793b-4a38-47ad-a7f1-f953a0c5f571",
   "metadata": {},
   "outputs": [
    {
     "name": "stdout",
     "output_type": "stream",
     "text": [
      "[10, 25, 45, 75, 115]\n"
     ]
    }
   ],
   "source": [
    "#Q1=> given list=> [10,15,,20,30,40]\n",
    "# [10,25,45,75,105]=>this is the cummulative sum\n",
    "sum = 0\n",
    "list=[10,15,20,30,40]\n",
    "list1=[]\n",
    "for i in list:\n",
    "    sum = i+sum\n",
    "    list1.append(sum)\n",
    "print(list1)\n",
    "    \n",
    "    "
   ]
  },
  {
   "cell_type": "code",
   "execution_count": 176,
   "id": "48df14dd-c093-4f90-ac09-ace8d1d4e5e4",
   "metadata": {},
   "outputs": [
    {
     "name": "stdin",
     "output_type": "stream",
     "text": [
      "Enter the number:  7\n"
     ]
    },
    {
     "name": "stdout",
     "output_type": "stream",
     "text": [
      "1\n",
      "28\n"
     ]
    }
   ],
   "source": [
    "#1,2,3,4,5,6,7\n",
    "#2,3,4,5,6,7,8\n",
    "#3,4,5,6,7,8,9....\n",
    "#day10=> 1+2+3+4+5+6+7+2+3+4\n",
    "\n",
    "num=int(input(\"Enter the number: \"))\n",
    "amount=0\n",
    "sum=0\n",
    "for i in range(num):\n",
    "    sum = (i+1)+ sum\n",
    "    if(i%7==0):\n",
    "            amount +=1\n",
    "            print(amount) \n",
    "        \n",
    "    \n",
    "    \n",
    "print(sum)"
   ]
  }
 ],
 "metadata": {
  "kernelspec": {
   "display_name": "Python 3 (ipykernel)",
   "language": "python",
   "name": "python3"
  },
  "language_info": {
   "codemirror_mode": {
    "name": "ipython",
    "version": 3
   },
   "file_extension": ".py",
   "mimetype": "text/x-python",
   "name": "python",
   "nbconvert_exporter": "python",
   "pygments_lexer": "ipython3",
   "version": "3.12.4"
  }
 },
 "nbformat": 4,
 "nbformat_minor": 5
}
